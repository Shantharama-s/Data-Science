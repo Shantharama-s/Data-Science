{
 "cells": [
  {
   "cell_type": "code",
   "execution_count": 1,
   "id": "eafedee6",
   "metadata": {},
   "outputs": [],
   "source": [
    "import pandas as pd"
   ]
  },
  {
   "cell_type": "code",
   "execution_count": 2,
   "id": "ab0ff570",
   "metadata": {},
   "outputs": [],
   "source": [
    "import numpy as np"
   ]
  },
  {
   "cell_type": "code",
   "execution_count": 3,
   "id": "acb42725",
   "metadata": {},
   "outputs": [],
   "source": [
    "import matplotlib.pyplot as plt"
   ]
  },
  {
   "cell_type": "code",
   "execution_count": 4,
   "id": "ba3519dd",
   "metadata": {
    "scrolled": true
   },
   "outputs": [],
   "source": [
    "data1 = pd.read_excel('database_en.xlsx')"
   ]
  },
  {
   "cell_type": "code",
   "execution_count": 5,
   "id": "fef7f344",
   "metadata": {},
   "outputs": [
    {
     "data": {
      "text/html": [
       "<div>\n",
       "<style scoped>\n",
       "    .dataframe tbody tr th:only-of-type {\n",
       "        vertical-align: middle;\n",
       "    }\n",
       "\n",
       "    .dataframe tbody tr th {\n",
       "        vertical-align: top;\n",
       "    }\n",
       "\n",
       "    .dataframe thead th {\n",
       "        text-align: right;\n",
       "    }\n",
       "</style>\n",
       "<table border=\"1\" class=\"dataframe\">\n",
       "  <thead>\n",
       "    <tr style=\"text-align: right;\">\n",
       "      <th></th>\n",
       "      <th>fibercontent</th>\n",
       "      <th>Aspect ratio</th>\n",
       "      <th>fiberLength</th>\n",
       "      <th>fine aggregate</th>\n",
       "      <th>coarse aggregate</th>\n",
       "      <th>water</th>\n",
       "      <th>additivecontent</th>\n",
       "      <th>silicafumecontent</th>\n",
       "      <th>slagcontent</th>\n",
       "      <th>flyashcontent</th>\n",
       "      <th>metakaolincontent</th>\n",
       "      <th>cementecontent</th>\n",
       "      <th>compressivestrength</th>\n",
       "    </tr>\n",
       "  </thead>\n",
       "  <tbody>\n",
       "    <tr>\n",
       "      <th>0</th>\n",
       "      <td>0.00</td>\n",
       "      <td>0.000000</td>\n",
       "      <td>0.0</td>\n",
       "      <td>751.5</td>\n",
       "      <td>1012.5</td>\n",
       "      <td>162.0</td>\n",
       "      <td>0.0</td>\n",
       "      <td>0.0</td>\n",
       "      <td>0.0</td>\n",
       "      <td>0.0</td>\n",
       "      <td>0.0</td>\n",
       "      <td>450.0</td>\n",
       "      <td>47.77</td>\n",
       "    </tr>\n",
       "    <tr>\n",
       "      <th>1</th>\n",
       "      <td>23.55</td>\n",
       "      <td>46.666667</td>\n",
       "      <td>35.0</td>\n",
       "      <td>751.5</td>\n",
       "      <td>1012.5</td>\n",
       "      <td>162.0</td>\n",
       "      <td>0.0</td>\n",
       "      <td>0.0</td>\n",
       "      <td>0.0</td>\n",
       "      <td>0.0</td>\n",
       "      <td>0.0</td>\n",
       "      <td>450.0</td>\n",
       "      <td>51.22</td>\n",
       "    </tr>\n",
       "    <tr>\n",
       "      <th>2</th>\n",
       "      <td>47.10</td>\n",
       "      <td>46.666667</td>\n",
       "      <td>35.0</td>\n",
       "      <td>751.5</td>\n",
       "      <td>1012.5</td>\n",
       "      <td>162.0</td>\n",
       "      <td>0.0</td>\n",
       "      <td>0.0</td>\n",
       "      <td>0.0</td>\n",
       "      <td>0.0</td>\n",
       "      <td>0.0</td>\n",
       "      <td>450.0</td>\n",
       "      <td>54.22</td>\n",
       "    </tr>\n",
       "    <tr>\n",
       "      <th>3</th>\n",
       "      <td>70.65</td>\n",
       "      <td>46.666667</td>\n",
       "      <td>35.0</td>\n",
       "      <td>751.5</td>\n",
       "      <td>1012.5</td>\n",
       "      <td>162.0</td>\n",
       "      <td>0.0</td>\n",
       "      <td>0.0</td>\n",
       "      <td>0.0</td>\n",
       "      <td>0.0</td>\n",
       "      <td>0.0</td>\n",
       "      <td>450.0</td>\n",
       "      <td>57.11</td>\n",
       "    </tr>\n",
       "    <tr>\n",
       "      <th>4</th>\n",
       "      <td>0.00</td>\n",
       "      <td>0.000000</td>\n",
       "      <td>0.0</td>\n",
       "      <td>785.0</td>\n",
       "      <td>1093.0</td>\n",
       "      <td>178.0</td>\n",
       "      <td>0.0</td>\n",
       "      <td>0.0</td>\n",
       "      <td>0.0</td>\n",
       "      <td>0.0</td>\n",
       "      <td>0.0</td>\n",
       "      <td>324.0</td>\n",
       "      <td>36.50</td>\n",
       "    </tr>\n",
       "  </tbody>\n",
       "</table>\n",
       "</div>"
      ],
      "text/plain": [
       "   fibercontent   Aspect ratio  fiberLength   fine aggregate  \\\n",
       "0           0.00      0.000000           0.0           751.5   \n",
       "1          23.55     46.666667          35.0           751.5   \n",
       "2          47.10     46.666667          35.0           751.5   \n",
       "3          70.65     46.666667          35.0           751.5   \n",
       "4           0.00      0.000000           0.0           785.0   \n",
       "\n",
       "   coarse aggregate  water  additivecontent  silicafumecontent  slagcontent  \\\n",
       "0            1012.5  162.0              0.0                0.0          0.0   \n",
       "1            1012.5  162.0              0.0                0.0          0.0   \n",
       "2            1012.5  162.0              0.0                0.0          0.0   \n",
       "3            1012.5  162.0              0.0                0.0          0.0   \n",
       "4            1093.0  178.0              0.0                0.0          0.0   \n",
       "\n",
       "   flyashcontent  metakaolincontent  cementecontent  compressivestrength  \n",
       "0            0.0                0.0           450.0                47.77  \n",
       "1            0.0                0.0           450.0                51.22  \n",
       "2            0.0                0.0           450.0                54.22  \n",
       "3            0.0                0.0           450.0                57.11  \n",
       "4            0.0                0.0           324.0                36.50  "
      ]
     },
     "execution_count": 5,
     "metadata": {},
     "output_type": "execute_result"
    }
   ],
   "source": [
    "data1.head()"
   ]
  },
  {
   "cell_type": "code",
   "execution_count": 6,
   "id": "653ff896",
   "metadata": {},
   "outputs": [],
   "source": [
    "data2 = pd.read_excel('database_en.xlsx', sheet_name = 'tensilestrength')"
   ]
  },
  {
   "cell_type": "code",
   "execution_count": 7,
   "id": "35b72643",
   "metadata": {},
   "outputs": [
    {
     "data": {
      "text/html": [
       "<div>\n",
       "<style scoped>\n",
       "    .dataframe tbody tr th:only-of-type {\n",
       "        vertical-align: middle;\n",
       "    }\n",
       "\n",
       "    .dataframe tbody tr th {\n",
       "        vertical-align: top;\n",
       "    }\n",
       "\n",
       "    .dataframe thead th {\n",
       "        text-align: right;\n",
       "    }\n",
       "</style>\n",
       "<table border=\"1\" class=\"dataframe\">\n",
       "  <thead>\n",
       "    <tr style=\"text-align: right;\">\n",
       "      <th></th>\n",
       "      <th>fibercontent</th>\n",
       "      <th>Aspect ratio</th>\n",
       "      <th>fiberLength</th>\n",
       "      <th>fine aggregate</th>\n",
       "      <th>coarse aggregate</th>\n",
       "      <th>water</th>\n",
       "      <th>additivecontent</th>\n",
       "      <th>silicafumecontent</th>\n",
       "      <th>slagcontent</th>\n",
       "      <th>flyashcontent</th>\n",
       "      <th>metakaolincontent</th>\n",
       "      <th>cementecontent</th>\n",
       "      <th>tensilestrength</th>\n",
       "    </tr>\n",
       "  </thead>\n",
       "  <tbody>\n",
       "    <tr>\n",
       "      <th>0</th>\n",
       "      <td>0.00</td>\n",
       "      <td>0.000000</td>\n",
       "      <td>0</td>\n",
       "      <td>751.5</td>\n",
       "      <td>1012.5</td>\n",
       "      <td>162.0</td>\n",
       "      <td>0.0</td>\n",
       "      <td>0.0</td>\n",
       "      <td>0.0</td>\n",
       "      <td>0</td>\n",
       "      <td>0.0</td>\n",
       "      <td>450.0</td>\n",
       "      <td>3.60</td>\n",
       "    </tr>\n",
       "    <tr>\n",
       "      <th>1</th>\n",
       "      <td>23.55</td>\n",
       "      <td>46.666667</td>\n",
       "      <td>35</td>\n",
       "      <td>751.5</td>\n",
       "      <td>1012.5</td>\n",
       "      <td>162.0</td>\n",
       "      <td>0.0</td>\n",
       "      <td>0.0</td>\n",
       "      <td>0.0</td>\n",
       "      <td>0</td>\n",
       "      <td>0.0</td>\n",
       "      <td>450.0</td>\n",
       "      <td>3.89</td>\n",
       "    </tr>\n",
       "    <tr>\n",
       "      <th>2</th>\n",
       "      <td>47.10</td>\n",
       "      <td>46.666667</td>\n",
       "      <td>35</td>\n",
       "      <td>751.5</td>\n",
       "      <td>1012.5</td>\n",
       "      <td>162.0</td>\n",
       "      <td>0.0</td>\n",
       "      <td>0.0</td>\n",
       "      <td>0.0</td>\n",
       "      <td>0</td>\n",
       "      <td>0.0</td>\n",
       "      <td>450.0</td>\n",
       "      <td>4.06</td>\n",
       "    </tr>\n",
       "    <tr>\n",
       "      <th>3</th>\n",
       "      <td>70.65</td>\n",
       "      <td>46.666667</td>\n",
       "      <td>35</td>\n",
       "      <td>751.5</td>\n",
       "      <td>1012.5</td>\n",
       "      <td>162.0</td>\n",
       "      <td>0.0</td>\n",
       "      <td>0.0</td>\n",
       "      <td>0.0</td>\n",
       "      <td>0</td>\n",
       "      <td>0.0</td>\n",
       "      <td>450.0</td>\n",
       "      <td>4.27</td>\n",
       "    </tr>\n",
       "    <tr>\n",
       "      <th>4</th>\n",
       "      <td>0.00</td>\n",
       "      <td>0.000000</td>\n",
       "      <td>0</td>\n",
       "      <td>785.0</td>\n",
       "      <td>1093.0</td>\n",
       "      <td>178.0</td>\n",
       "      <td>0.0</td>\n",
       "      <td>0.0</td>\n",
       "      <td>0.0</td>\n",
       "      <td>0</td>\n",
       "      <td>0.0</td>\n",
       "      <td>324.0</td>\n",
       "      <td>3.27</td>\n",
       "    </tr>\n",
       "  </tbody>\n",
       "</table>\n",
       "</div>"
      ],
      "text/plain": [
       "   fibercontent   Aspect ratio  fiberLength   fine aggregate  \\\n",
       "0           0.00      0.000000             0           751.5   \n",
       "1          23.55     46.666667            35           751.5   \n",
       "2          47.10     46.666667            35           751.5   \n",
       "3          70.65     46.666667            35           751.5   \n",
       "4           0.00      0.000000             0           785.0   \n",
       "\n",
       "   coarse aggregate  water  additivecontent  silicafumecontent  slagcontent  \\\n",
       "0            1012.5  162.0              0.0                0.0          0.0   \n",
       "1            1012.5  162.0              0.0                0.0          0.0   \n",
       "2            1012.5  162.0              0.0                0.0          0.0   \n",
       "3            1012.5  162.0              0.0                0.0          0.0   \n",
       "4            1093.0  178.0              0.0                0.0          0.0   \n",
       "\n",
       "   flyashcontent  metakaolincontent  cementecontent  tensilestrength  \n",
       "0              0                0.0           450.0             3.60  \n",
       "1              0                0.0           450.0             3.89  \n",
       "2              0                0.0           450.0             4.06  \n",
       "3              0                0.0           450.0             4.27  \n",
       "4              0                0.0           324.0             3.27  "
      ]
     },
     "execution_count": 7,
     "metadata": {},
     "output_type": "execute_result"
    }
   ],
   "source": [
    "data2.head()"
   ]
  },
  {
   "cell_type": "code",
   "execution_count": 8,
   "id": "cccf5b14",
   "metadata": {},
   "outputs": [],
   "source": [
    "data3 = pd.read_excel('database_en.xlsx', sheet_name = 'flexuralstrength')"
   ]
  },
  {
   "cell_type": "code",
   "execution_count": 9,
   "id": "c58a5fd5",
   "metadata": {},
   "outputs": [
    {
     "data": {
      "text/html": [
       "<div>\n",
       "<style scoped>\n",
       "    .dataframe tbody tr th:only-of-type {\n",
       "        vertical-align: middle;\n",
       "    }\n",
       "\n",
       "    .dataframe tbody tr th {\n",
       "        vertical-align: top;\n",
       "    }\n",
       "\n",
       "    .dataframe thead th {\n",
       "        text-align: right;\n",
       "    }\n",
       "</style>\n",
       "<table border=\"1\" class=\"dataframe\">\n",
       "  <thead>\n",
       "    <tr style=\"text-align: right;\">\n",
       "      <th></th>\n",
       "      <th>fibercontent</th>\n",
       "      <th>Aspect ratio</th>\n",
       "      <th>fiberLength</th>\n",
       "      <th>fine aggregate</th>\n",
       "      <th>coarse aggregate</th>\n",
       "      <th>water</th>\n",
       "      <th>additivecontent</th>\n",
       "      <th>silicafumecontent</th>\n",
       "      <th>slagcontent</th>\n",
       "      <th>flyashcontent</th>\n",
       "      <th>metakaolincontent</th>\n",
       "      <th>cementecontent</th>\n",
       "      <th>flexuralstrength</th>\n",
       "    </tr>\n",
       "  </thead>\n",
       "  <tbody>\n",
       "    <tr>\n",
       "      <th>0</th>\n",
       "      <td>0.00</td>\n",
       "      <td>0.000000</td>\n",
       "      <td>0.0</td>\n",
       "      <td>751.50</td>\n",
       "      <td>1012.50</td>\n",
       "      <td>162.0</td>\n",
       "      <td>0.0</td>\n",
       "      <td>0.0</td>\n",
       "      <td>0.0</td>\n",
       "      <td>0</td>\n",
       "      <td>0.0</td>\n",
       "      <td>450.0</td>\n",
       "      <td>4.36</td>\n",
       "    </tr>\n",
       "    <tr>\n",
       "      <th>1</th>\n",
       "      <td>23.55</td>\n",
       "      <td>46.666667</td>\n",
       "      <td>35.0</td>\n",
       "      <td>751.50</td>\n",
       "      <td>1012.50</td>\n",
       "      <td>162.0</td>\n",
       "      <td>0.0</td>\n",
       "      <td>0.0</td>\n",
       "      <td>0.0</td>\n",
       "      <td>0</td>\n",
       "      <td>0.0</td>\n",
       "      <td>450.0</td>\n",
       "      <td>4.66</td>\n",
       "    </tr>\n",
       "    <tr>\n",
       "      <th>2</th>\n",
       "      <td>47.10</td>\n",
       "      <td>46.666667</td>\n",
       "      <td>35.0</td>\n",
       "      <td>751.50</td>\n",
       "      <td>1012.50</td>\n",
       "      <td>162.0</td>\n",
       "      <td>0.0</td>\n",
       "      <td>0.0</td>\n",
       "      <td>0.0</td>\n",
       "      <td>0</td>\n",
       "      <td>0.0</td>\n",
       "      <td>450.0</td>\n",
       "      <td>5.07</td>\n",
       "    </tr>\n",
       "    <tr>\n",
       "      <th>3</th>\n",
       "      <td>70.65</td>\n",
       "      <td>46.666667</td>\n",
       "      <td>35.0</td>\n",
       "      <td>751.50</td>\n",
       "      <td>1012.50</td>\n",
       "      <td>162.0</td>\n",
       "      <td>0.0</td>\n",
       "      <td>0.0</td>\n",
       "      <td>0.0</td>\n",
       "      <td>0</td>\n",
       "      <td>0.0</td>\n",
       "      <td>450.0</td>\n",
       "      <td>5.41</td>\n",
       "    </tr>\n",
       "    <tr>\n",
       "      <th>4</th>\n",
       "      <td>0.00</td>\n",
       "      <td>0.000000</td>\n",
       "      <td>0.0</td>\n",
       "      <td>784.08</td>\n",
       "      <td>1091.88</td>\n",
       "      <td>178.2</td>\n",
       "      <td>0.0</td>\n",
       "      <td>0.0</td>\n",
       "      <td>0.0</td>\n",
       "      <td>0</td>\n",
       "      <td>0.0</td>\n",
       "      <td>324.0</td>\n",
       "      <td>4.74</td>\n",
       "    </tr>\n",
       "  </tbody>\n",
       "</table>\n",
       "</div>"
      ],
      "text/plain": [
       "   fibercontent   Aspect ratio  fiberLength   fine aggregate  \\\n",
       "0           0.00      0.000000           0.0          751.50   \n",
       "1          23.55     46.666667          35.0          751.50   \n",
       "2          47.10     46.666667          35.0          751.50   \n",
       "3          70.65     46.666667          35.0          751.50   \n",
       "4           0.00      0.000000           0.0          784.08   \n",
       "\n",
       "   coarse aggregate  water  additivecontent  silicafumecontent  slagcontent  \\\n",
       "0           1012.50  162.0              0.0                0.0          0.0   \n",
       "1           1012.50  162.0              0.0                0.0          0.0   \n",
       "2           1012.50  162.0              0.0                0.0          0.0   \n",
       "3           1012.50  162.0              0.0                0.0          0.0   \n",
       "4           1091.88  178.2              0.0                0.0          0.0   \n",
       "\n",
       "   flyashcontent  metakaolincontent  cementecontent  flexuralstrength  \n",
       "0              0                0.0           450.0              4.36  \n",
       "1              0                0.0           450.0              4.66  \n",
       "2              0                0.0           450.0              5.07  \n",
       "3              0                0.0           450.0              5.41  \n",
       "4              0                0.0           324.0              4.74  "
      ]
     },
     "execution_count": 9,
     "metadata": {},
     "output_type": "execute_result"
    }
   ],
   "source": [
    "data3.head()"
   ]
  },
  {
   "cell_type": "code",
   "execution_count": null,
   "id": "ae643bff",
   "metadata": {},
   "outputs": [],
   "source": [
    "#three seperate datasets"
   ]
  },
  {
   "cell_type": "code",
   "execution_count": 10,
   "id": "8f778517",
   "metadata": {
    "scrolled": true
   },
   "outputs": [
    {
     "data": {
      "text/plain": [
       "fibercontent           0\n",
       "Aspect ratio           0\n",
       "fiberLength            0\n",
       "fine aggregate         0\n",
       "coarse aggregate       0\n",
       "water                  0\n",
       "additivecontent        0\n",
       "silicafumecontent      0\n",
       "slagcontent            0\n",
       "flyashcontent          0\n",
       "metakaolincontent      0\n",
       "cementecontent         0\n",
       "compressivestrength    0\n",
       "dtype: int64"
      ]
     },
     "execution_count": 10,
     "metadata": {},
     "output_type": "execute_result"
    }
   ],
   "source": [
    "data1.isna().sum()"
   ]
  },
  {
   "cell_type": "code",
   "execution_count": 11,
   "id": "2fc4c778",
   "metadata": {},
   "outputs": [
    {
     "data": {
      "text/plain": [
       "fibercontent         0\n",
       "Aspect ratio         0\n",
       "fiberLength          0\n",
       "fine aggregate       0\n",
       "coarse aggregate     0\n",
       "water                0\n",
       "additivecontent      0\n",
       "silicafumecontent    0\n",
       "slagcontent          0\n",
       "flyashcontent        0\n",
       "metakaolincontent    0\n",
       "cementecontent       0\n",
       "tensilestrength      0\n",
       "dtype: int64"
      ]
     },
     "execution_count": 11,
     "metadata": {},
     "output_type": "execute_result"
    }
   ],
   "source": [
    "data2.isna().sum()"
   ]
  },
  {
   "cell_type": "code",
   "execution_count": 12,
   "id": "d9c58d07",
   "metadata": {},
   "outputs": [
    {
     "data": {
      "text/plain": [
       "fibercontent         0\n",
       "Aspect ratio         0\n",
       "fiberLength          0\n",
       "fine aggregate       0\n",
       "coarse aggregate     0\n",
       "water                0\n",
       "additivecontent      0\n",
       "silicafumecontent    0\n",
       "slagcontent          0\n",
       "flyashcontent        0\n",
       "metakaolincontent    0\n",
       "cementecontent       0\n",
       "flexuralstrength     0\n",
       "dtype: int64"
      ]
     },
     "execution_count": 12,
     "metadata": {},
     "output_type": "execute_result"
    }
   ],
   "source": [
    "data3.isna().sum()"
   ]
  },
  {
   "cell_type": "code",
   "execution_count": null,
   "id": "91b04eaf",
   "metadata": {},
   "outputs": [],
   "source": [
    "#spltting and modeling first sheet - Compressive Strength"
   ]
  },
  {
   "cell_type": "code",
   "execution_count": 13,
   "id": "34a4512d",
   "metadata": {
    "scrolled": true
   },
   "outputs": [],
   "source": [
    "X = data1.drop(labels = ['compressivestrength'], axis=1)"
   ]
  },
  {
   "cell_type": "code",
   "execution_count": 14,
   "id": "72da7179",
   "metadata": {},
   "outputs": [
    {
     "data": {
      "text/html": [
       "<div>\n",
       "<style scoped>\n",
       "    .dataframe tbody tr th:only-of-type {\n",
       "        vertical-align: middle;\n",
       "    }\n",
       "\n",
       "    .dataframe tbody tr th {\n",
       "        vertical-align: top;\n",
       "    }\n",
       "\n",
       "    .dataframe thead th {\n",
       "        text-align: right;\n",
       "    }\n",
       "</style>\n",
       "<table border=\"1\" class=\"dataframe\">\n",
       "  <thead>\n",
       "    <tr style=\"text-align: right;\">\n",
       "      <th></th>\n",
       "      <th>fibercontent</th>\n",
       "      <th>Aspect ratio</th>\n",
       "      <th>fiberLength</th>\n",
       "      <th>fine aggregate</th>\n",
       "      <th>coarse aggregate</th>\n",
       "      <th>water</th>\n",
       "      <th>additivecontent</th>\n",
       "      <th>silicafumecontent</th>\n",
       "      <th>slagcontent</th>\n",
       "      <th>flyashcontent</th>\n",
       "      <th>metakaolincontent</th>\n",
       "      <th>cementecontent</th>\n",
       "    </tr>\n",
       "  </thead>\n",
       "  <tbody>\n",
       "    <tr>\n",
       "      <th>0</th>\n",
       "      <td>0.00</td>\n",
       "      <td>0.000000</td>\n",
       "      <td>0.0</td>\n",
       "      <td>751.5</td>\n",
       "      <td>1012.5</td>\n",
       "      <td>162.0</td>\n",
       "      <td>0.0</td>\n",
       "      <td>0.0</td>\n",
       "      <td>0.0</td>\n",
       "      <td>0.0</td>\n",
       "      <td>0.0</td>\n",
       "      <td>450.0</td>\n",
       "    </tr>\n",
       "    <tr>\n",
       "      <th>1</th>\n",
       "      <td>23.55</td>\n",
       "      <td>46.666667</td>\n",
       "      <td>35.0</td>\n",
       "      <td>751.5</td>\n",
       "      <td>1012.5</td>\n",
       "      <td>162.0</td>\n",
       "      <td>0.0</td>\n",
       "      <td>0.0</td>\n",
       "      <td>0.0</td>\n",
       "      <td>0.0</td>\n",
       "      <td>0.0</td>\n",
       "      <td>450.0</td>\n",
       "    </tr>\n",
       "    <tr>\n",
       "      <th>2</th>\n",
       "      <td>47.10</td>\n",
       "      <td>46.666667</td>\n",
       "      <td>35.0</td>\n",
       "      <td>751.5</td>\n",
       "      <td>1012.5</td>\n",
       "      <td>162.0</td>\n",
       "      <td>0.0</td>\n",
       "      <td>0.0</td>\n",
       "      <td>0.0</td>\n",
       "      <td>0.0</td>\n",
       "      <td>0.0</td>\n",
       "      <td>450.0</td>\n",
       "    </tr>\n",
       "    <tr>\n",
       "      <th>3</th>\n",
       "      <td>70.65</td>\n",
       "      <td>46.666667</td>\n",
       "      <td>35.0</td>\n",
       "      <td>751.5</td>\n",
       "      <td>1012.5</td>\n",
       "      <td>162.0</td>\n",
       "      <td>0.0</td>\n",
       "      <td>0.0</td>\n",
       "      <td>0.0</td>\n",
       "      <td>0.0</td>\n",
       "      <td>0.0</td>\n",
       "      <td>450.0</td>\n",
       "    </tr>\n",
       "    <tr>\n",
       "      <th>4</th>\n",
       "      <td>0.00</td>\n",
       "      <td>0.000000</td>\n",
       "      <td>0.0</td>\n",
       "      <td>785.0</td>\n",
       "      <td>1093.0</td>\n",
       "      <td>178.0</td>\n",
       "      <td>0.0</td>\n",
       "      <td>0.0</td>\n",
       "      <td>0.0</td>\n",
       "      <td>0.0</td>\n",
       "      <td>0.0</td>\n",
       "      <td>324.0</td>\n",
       "    </tr>\n",
       "  </tbody>\n",
       "</table>\n",
       "</div>"
      ],
      "text/plain": [
       "   fibercontent   Aspect ratio  fiberLength   fine aggregate  \\\n",
       "0           0.00      0.000000           0.0           751.5   \n",
       "1          23.55     46.666667          35.0           751.5   \n",
       "2          47.10     46.666667          35.0           751.5   \n",
       "3          70.65     46.666667          35.0           751.5   \n",
       "4           0.00      0.000000           0.0           785.0   \n",
       "\n",
       "   coarse aggregate  water  additivecontent  silicafumecontent  slagcontent  \\\n",
       "0            1012.5  162.0              0.0                0.0          0.0   \n",
       "1            1012.5  162.0              0.0                0.0          0.0   \n",
       "2            1012.5  162.0              0.0                0.0          0.0   \n",
       "3            1012.5  162.0              0.0                0.0          0.0   \n",
       "4            1093.0  178.0              0.0                0.0          0.0   \n",
       "\n",
       "   flyashcontent  metakaolincontent  cementecontent  \n",
       "0            0.0                0.0           450.0  \n",
       "1            0.0                0.0           450.0  \n",
       "2            0.0                0.0           450.0  \n",
       "3            0.0                0.0           450.0  \n",
       "4            0.0                0.0           324.0  "
      ]
     },
     "execution_count": 14,
     "metadata": {},
     "output_type": "execute_result"
    }
   ],
   "source": [
    "X.head()"
   ]
  },
  {
   "cell_type": "code",
   "execution_count": 15,
   "id": "5ae87764",
   "metadata": {},
   "outputs": [],
   "source": [
    "y = data1['compressivestrength']"
   ]
  },
  {
   "cell_type": "code",
   "execution_count": 16,
   "id": "983233c9",
   "metadata": {},
   "outputs": [
    {
     "data": {
      "text/plain": [
       "0      47.77\n",
       "1      51.22\n",
       "2      54.22\n",
       "3      57.11\n",
       "4      36.50\n",
       "       ...  \n",
       "516    41.59\n",
       "517    46.97\n",
       "518    45.67\n",
       "519    46.12\n",
       "520    49.23\n",
       "Name: compressivestrength, Length: 521, dtype: float64"
      ]
     },
     "execution_count": 16,
     "metadata": {},
     "output_type": "execute_result"
    }
   ],
   "source": [
    "y"
   ]
  },
  {
   "cell_type": "code",
   "execution_count": 17,
   "id": "0c389657",
   "metadata": {},
   "outputs": [],
   "source": [
    "from sklearn.model_selection import train_test_split"
   ]
  },
  {
   "cell_type": "code",
   "execution_count": 18,
   "id": "d4516ab1",
   "metadata": {},
   "outputs": [],
   "source": [
    "X_train,X_test,y_train,y_test=train_test_split(X,y,test_size=0.3,random_state=0)"
   ]
  },
  {
   "cell_type": "code",
   "execution_count": 19,
   "id": "f677934a",
   "metadata": {},
   "outputs": [
    {
     "data": {
      "text/html": [
       "<div>\n",
       "<style scoped>\n",
       "    .dataframe tbody tr th:only-of-type {\n",
       "        vertical-align: middle;\n",
       "    }\n",
       "\n",
       "    .dataframe tbody tr th {\n",
       "        vertical-align: top;\n",
       "    }\n",
       "\n",
       "    .dataframe thead th {\n",
       "        text-align: right;\n",
       "    }\n",
       "</style>\n",
       "<table border=\"1\" class=\"dataframe\">\n",
       "  <thead>\n",
       "    <tr style=\"text-align: right;\">\n",
       "      <th></th>\n",
       "      <th>fibercontent</th>\n",
       "      <th>Aspect ratio</th>\n",
       "      <th>fiberLength</th>\n",
       "      <th>fine aggregate</th>\n",
       "      <th>coarse aggregate</th>\n",
       "      <th>water</th>\n",
       "      <th>additivecontent</th>\n",
       "      <th>silicafumecontent</th>\n",
       "      <th>slagcontent</th>\n",
       "      <th>flyashcontent</th>\n",
       "      <th>metakaolincontent</th>\n",
       "      <th>cementecontent</th>\n",
       "    </tr>\n",
       "  </thead>\n",
       "  <tbody>\n",
       "    <tr>\n",
       "      <th>336</th>\n",
       "      <td>78.5</td>\n",
       "      <td>80.000000</td>\n",
       "      <td>60.0</td>\n",
       "      <td>740.00</td>\n",
       "      <td>740.00</td>\n",
       "      <td>250.00</td>\n",
       "      <td>2.324</td>\n",
       "      <td>0.0</td>\n",
       "      <td>0.0</td>\n",
       "      <td>0.0</td>\n",
       "      <td>0.0</td>\n",
       "      <td>581.0</td>\n",
       "    </tr>\n",
       "    <tr>\n",
       "      <th>190</th>\n",
       "      <td>78.5</td>\n",
       "      <td>40.000000</td>\n",
       "      <td>30.0</td>\n",
       "      <td>651.25</td>\n",
       "      <td>1078.47</td>\n",
       "      <td>171.93</td>\n",
       "      <td>5.210</td>\n",
       "      <td>0.0</td>\n",
       "      <td>0.0</td>\n",
       "      <td>0.0</td>\n",
       "      <td>0.0</td>\n",
       "      <td>521.0</td>\n",
       "    </tr>\n",
       "    <tr>\n",
       "      <th>437</th>\n",
       "      <td>39.0</td>\n",
       "      <td>66.666667</td>\n",
       "      <td>60.0</td>\n",
       "      <td>671.20</td>\n",
       "      <td>1055.80</td>\n",
       "      <td>164.00</td>\n",
       "      <td>4.900</td>\n",
       "      <td>0.0</td>\n",
       "      <td>0.0</td>\n",
       "      <td>0.0</td>\n",
       "      <td>0.0</td>\n",
       "      <td>451.8</td>\n",
       "    </tr>\n",
       "    <tr>\n",
       "      <th>5</th>\n",
       "      <td>0.0</td>\n",
       "      <td>0.000000</td>\n",
       "      <td>0.0</td>\n",
       "      <td>785.00</td>\n",
       "      <td>1093.00</td>\n",
       "      <td>178.00</td>\n",
       "      <td>0.130</td>\n",
       "      <td>32.0</td>\n",
       "      <td>97.2</td>\n",
       "      <td>0.0</td>\n",
       "      <td>0.0</td>\n",
       "      <td>194.8</td>\n",
       "    </tr>\n",
       "    <tr>\n",
       "      <th>141</th>\n",
       "      <td>39.0</td>\n",
       "      <td>80.645161</td>\n",
       "      <td>50.0</td>\n",
       "      <td>682.00</td>\n",
       "      <td>1050.50</td>\n",
       "      <td>137.50</td>\n",
       "      <td>1.375</td>\n",
       "      <td>0.0</td>\n",
       "      <td>0.0</td>\n",
       "      <td>0.0</td>\n",
       "      <td>0.0</td>\n",
       "      <td>550.0</td>\n",
       "    </tr>\n",
       "  </tbody>\n",
       "</table>\n",
       "</div>"
      ],
      "text/plain": [
       "     fibercontent   Aspect ratio  fiberLength   fine aggregate  \\\n",
       "336           78.5     80.000000          60.0          740.00   \n",
       "190           78.5     40.000000          30.0          651.25   \n",
       "437           39.0     66.666667          60.0          671.20   \n",
       "5              0.0      0.000000           0.0          785.00   \n",
       "141           39.0     80.645161          50.0          682.00   \n",
       "\n",
       "     coarse aggregate   water  additivecontent  silicafumecontent  \\\n",
       "336            740.00  250.00            2.324                0.0   \n",
       "190           1078.47  171.93            5.210                0.0   \n",
       "437           1055.80  164.00            4.900                0.0   \n",
       "5             1093.00  178.00            0.130               32.0   \n",
       "141           1050.50  137.50            1.375                0.0   \n",
       "\n",
       "     slagcontent  flyashcontent  metakaolincontent  cementecontent  \n",
       "336          0.0            0.0                0.0           581.0  \n",
       "190          0.0            0.0                0.0           521.0  \n",
       "437          0.0            0.0                0.0           451.8  \n",
       "5           97.2            0.0                0.0           194.8  \n",
       "141          0.0            0.0                0.0           550.0  "
      ]
     },
     "execution_count": 19,
     "metadata": {},
     "output_type": "execute_result"
    }
   ],
   "source": [
    "X_train.head()"
   ]
  },
  {
   "cell_type": "code",
   "execution_count": 20,
   "id": "bf52f146",
   "metadata": {},
   "outputs": [
    {
     "data": {
      "text/plain": [
       "336    52.00\n",
       "190    82.00\n",
       "437    65.50\n",
       "5      42.95\n",
       "141    90.70\n",
       "       ...  \n",
       "70     33.50\n",
       "277    67.80\n",
       "9      45.83\n",
       "359    29.50\n",
       "192    79.00\n",
       "Name: compressivestrength, Length: 364, dtype: float64"
      ]
     },
     "execution_count": 20,
     "metadata": {},
     "output_type": "execute_result"
    }
   ],
   "source": [
    "y_train"
   ]
  },
  {
   "cell_type": "code",
   "execution_count": 21,
   "id": "a0743c19",
   "metadata": {},
   "outputs": [
    {
     "data": {
      "text/plain": [
       "(364, 12)"
      ]
     },
     "execution_count": 21,
     "metadata": {},
     "output_type": "execute_result"
    }
   ],
   "source": [
    "X_train.shape"
   ]
  },
  {
   "cell_type": "code",
   "execution_count": 22,
   "id": "e824e338",
   "metadata": {},
   "outputs": [
    {
     "data": {
      "text/plain": [
       "(157, 12)"
      ]
     },
     "execution_count": 22,
     "metadata": {},
     "output_type": "execute_result"
    }
   ],
   "source": [
    "X_test.shape"
   ]
  },
  {
   "cell_type": "code",
   "execution_count": 23,
   "id": "8beb9b8f",
   "metadata": {},
   "outputs": [],
   "source": [
    "from sklearn.linear_model import LinearRegression"
   ]
  },
  {
   "cell_type": "code",
   "execution_count": 24,
   "id": "f9ec9d24",
   "metadata": {},
   "outputs": [],
   "source": [
    "lr = LinearRegression()"
   ]
  },
  {
   "cell_type": "code",
   "execution_count": 25,
   "id": "a02fdb50",
   "metadata": {},
   "outputs": [
    {
     "data": {
      "text/plain": [
       "LinearRegression()"
      ]
     },
     "execution_count": 25,
     "metadata": {},
     "output_type": "execute_result"
    }
   ],
   "source": [
    "lr.fit(X_train,y_train)"
   ]
  },
  {
   "cell_type": "code",
   "execution_count": 26,
   "id": "2a172046",
   "metadata": {},
   "outputs": [
    {
     "data": {
      "text/plain": [
       "0.6636942880598974"
      ]
     },
     "execution_count": 26,
     "metadata": {},
     "output_type": "execute_result"
    }
   ],
   "source": [
    "lr.score(X_test,y_test)"
   ]
  },
  {
   "cell_type": "code",
   "execution_count": 28,
   "id": "e756662a",
   "metadata": {},
   "outputs": [],
   "source": [
    "from sklearn.ensemble import RandomForestRegressor"
   ]
  },
  {
   "cell_type": "code",
   "execution_count": 29,
   "id": "e576ea13",
   "metadata": {},
   "outputs": [],
   "source": [
    "rfr = RandomForestRegressor(random_state=0)"
   ]
  },
  {
   "cell_type": "code",
   "execution_count": 30,
   "id": "58f2ce35",
   "metadata": {},
   "outputs": [
    {
     "data": {
      "text/plain": [
       "RandomForestRegressor(random_state=0)"
      ]
     },
     "execution_count": 30,
     "metadata": {},
     "output_type": "execute_result"
    }
   ],
   "source": [
    "rfr.fit(X_train,y_train)"
   ]
  },
  {
   "cell_type": "code",
   "execution_count": 31,
   "id": "cd9fbee1",
   "metadata": {},
   "outputs": [
    {
     "data": {
      "text/plain": [
       "0.9455207503181993"
      ]
     },
     "execution_count": 31,
     "metadata": {},
     "output_type": "execute_result"
    }
   ],
   "source": [
    "rfr.score(X_test,y_test)"
   ]
  },
  {
   "cell_type": "code",
   "execution_count": 32,
   "id": "f904f013",
   "metadata": {},
   "outputs": [],
   "source": [
    "rfr = RandomForestRegressor(n_estimators=500,random_state=0)"
   ]
  },
  {
   "cell_type": "code",
   "execution_count": 33,
   "id": "0502fdac",
   "metadata": {},
   "outputs": [
    {
     "data": {
      "text/plain": [
       "RandomForestRegressor(n_estimators=500, random_state=0)"
      ]
     },
     "execution_count": 33,
     "metadata": {},
     "output_type": "execute_result"
    }
   ],
   "source": [
    "rfr.fit(X_train,y_train)"
   ]
  },
  {
   "cell_type": "code",
   "execution_count": 34,
   "id": "2c840634",
   "metadata": {},
   "outputs": [
    {
     "data": {
      "text/plain": [
       "0.9442115453572129"
      ]
     },
     "execution_count": 34,
     "metadata": {},
     "output_type": "execute_result"
    }
   ],
   "source": [
    "rfr.score(X_test,y_test)"
   ]
  },
  {
   "cell_type": "code",
   "execution_count": 35,
   "id": "6c96ac77",
   "metadata": {},
   "outputs": [],
   "source": [
    "from sklearn.linear_model import Lasso"
   ]
  },
  {
   "cell_type": "code",
   "execution_count": 36,
   "id": "e116f7bb",
   "metadata": {},
   "outputs": [],
   "source": [
    "from sklearn.linear_model import Ridge"
   ]
  },
  {
   "cell_type": "code",
   "execution_count": 38,
   "id": "0f9cb6cf",
   "metadata": {},
   "outputs": [],
   "source": [
    "ls = Lasso()"
   ]
  },
  {
   "cell_type": "code",
   "execution_count": 39,
   "id": "eff7f754",
   "metadata": {},
   "outputs": [
    {
     "data": {
      "text/plain": [
       "Lasso()"
      ]
     },
     "execution_count": 39,
     "metadata": {},
     "output_type": "execute_result"
    }
   ],
   "source": [
    "ls.fit(X_train,y_train)"
   ]
  },
  {
   "cell_type": "code",
   "execution_count": 40,
   "id": "0a9a887f",
   "metadata": {},
   "outputs": [
    {
     "data": {
      "text/plain": [
       "0.6636493671360995"
      ]
     },
     "execution_count": 40,
     "metadata": {},
     "output_type": "execute_result"
    }
   ],
   "source": [
    "ls.score(X_test,y_test)"
   ]
  },
  {
   "cell_type": "code",
   "execution_count": 41,
   "id": "141e7938",
   "metadata": {},
   "outputs": [],
   "source": [
    "rg = Ridge()"
   ]
  },
  {
   "cell_type": "code",
   "execution_count": 42,
   "id": "bb7da5dd",
   "metadata": {},
   "outputs": [
    {
     "data": {
      "text/plain": [
       "Ridge()"
      ]
     },
     "execution_count": 42,
     "metadata": {},
     "output_type": "execute_result"
    }
   ],
   "source": [
    "rg.fit(X_train,y_train)"
   ]
  },
  {
   "cell_type": "code",
   "execution_count": 43,
   "id": "e78e27ea",
   "metadata": {},
   "outputs": [
    {
     "data": {
      "text/plain": [
       "0.6636945146513988"
      ]
     },
     "execution_count": 43,
     "metadata": {},
     "output_type": "execute_result"
    }
   ],
   "source": [
    "rg.score(X_test,y_test)"
   ]
  },
  {
   "cell_type": "code",
   "execution_count": 44,
   "id": "19f3a328",
   "metadata": {},
   "outputs": [],
   "source": [
    "from xgboost import XGBRegressor"
   ]
  },
  {
   "cell_type": "code",
   "execution_count": 45,
   "id": "dce292ff",
   "metadata": {},
   "outputs": [],
   "source": [
    "xgbr = XGBRegressor()"
   ]
  },
  {
   "cell_type": "code",
   "execution_count": 46,
   "id": "887014ca",
   "metadata": {},
   "outputs": [
    {
     "data": {
      "text/plain": [
       "XGBRegressor(base_score=0.5, booster='gbtree', callbacks=None,\n",
       "             colsample_bylevel=1, colsample_bynode=1, colsample_bytree=1,\n",
       "             early_stopping_rounds=None, enable_categorical=False,\n",
       "             eval_metric=None, gamma=0, gpu_id=-1, grow_policy='depthwise',\n",
       "             importance_type=None, interaction_constraints='',\n",
       "             learning_rate=0.300000012, max_bin=256, max_cat_to_onehot=4,\n",
       "             max_delta_step=0, max_depth=6, max_leaves=0, min_child_weight=1,\n",
       "             missing=nan, monotone_constraints='()', n_estimators=100, n_jobs=0,\n",
       "             num_parallel_tree=1, predictor='auto', random_state=0, reg_alpha=0,\n",
       "             reg_lambda=1, ...)"
      ]
     },
     "execution_count": 46,
     "metadata": {},
     "output_type": "execute_result"
    }
   ],
   "source": [
    "xgbr.fit(X_train,y_train)"
   ]
  },
  {
   "cell_type": "code",
   "execution_count": 47,
   "id": "711c3e93",
   "metadata": {},
   "outputs": [
    {
     "data": {
      "text/plain": [
       "0.9440796089973622"
      ]
     },
     "execution_count": 47,
     "metadata": {},
     "output_type": "execute_result"
    }
   ],
   "source": [
    "xgbr.score(X_test,y_test)"
   ]
  },
  {
   "cell_type": "code",
   "execution_count": null,
   "id": "c73517f4",
   "metadata": {},
   "outputs": [],
   "source": [
    "#spltting and modeling second sheet - Tensile Strength"
   ]
  },
  {
   "cell_type": "code",
   "execution_count": 49,
   "id": "f01d4df7",
   "metadata": {},
   "outputs": [],
   "source": [
    "A = data2.drop(labels = ['tensilestrength'], axis=1)"
   ]
  },
  {
   "cell_type": "code",
   "execution_count": 51,
   "id": "0cb161c5",
   "metadata": {},
   "outputs": [],
   "source": [
    "B = data2['tensilestrength']"
   ]
  },
  {
   "cell_type": "code",
   "execution_count": 52,
   "id": "6e3a782a",
   "metadata": {
    "scrolled": true
   },
   "outputs": [
    {
     "data": {
      "text/html": [
       "<div>\n",
       "<style scoped>\n",
       "    .dataframe tbody tr th:only-of-type {\n",
       "        vertical-align: middle;\n",
       "    }\n",
       "\n",
       "    .dataframe tbody tr th {\n",
       "        vertical-align: top;\n",
       "    }\n",
       "\n",
       "    .dataframe thead th {\n",
       "        text-align: right;\n",
       "    }\n",
       "</style>\n",
       "<table border=\"1\" class=\"dataframe\">\n",
       "  <thead>\n",
       "    <tr style=\"text-align: right;\">\n",
       "      <th></th>\n",
       "      <th>fibercontent</th>\n",
       "      <th>Aspect ratio</th>\n",
       "      <th>fiberLength</th>\n",
       "      <th>fine aggregate</th>\n",
       "      <th>coarse aggregate</th>\n",
       "      <th>water</th>\n",
       "      <th>additivecontent</th>\n",
       "      <th>silicafumecontent</th>\n",
       "      <th>slagcontent</th>\n",
       "      <th>flyashcontent</th>\n",
       "      <th>metakaolincontent</th>\n",
       "      <th>cementecontent</th>\n",
       "    </tr>\n",
       "  </thead>\n",
       "  <tbody>\n",
       "    <tr>\n",
       "      <th>0</th>\n",
       "      <td>0.00</td>\n",
       "      <td>0.000000</td>\n",
       "      <td>0</td>\n",
       "      <td>751.5</td>\n",
       "      <td>1012.5</td>\n",
       "      <td>162.0</td>\n",
       "      <td>0.0</td>\n",
       "      <td>0.0</td>\n",
       "      <td>0.0</td>\n",
       "      <td>0</td>\n",
       "      <td>0.0</td>\n",
       "      <td>450.0</td>\n",
       "    </tr>\n",
       "    <tr>\n",
       "      <th>1</th>\n",
       "      <td>23.55</td>\n",
       "      <td>46.666667</td>\n",
       "      <td>35</td>\n",
       "      <td>751.5</td>\n",
       "      <td>1012.5</td>\n",
       "      <td>162.0</td>\n",
       "      <td>0.0</td>\n",
       "      <td>0.0</td>\n",
       "      <td>0.0</td>\n",
       "      <td>0</td>\n",
       "      <td>0.0</td>\n",
       "      <td>450.0</td>\n",
       "    </tr>\n",
       "    <tr>\n",
       "      <th>2</th>\n",
       "      <td>47.10</td>\n",
       "      <td>46.666667</td>\n",
       "      <td>35</td>\n",
       "      <td>751.5</td>\n",
       "      <td>1012.5</td>\n",
       "      <td>162.0</td>\n",
       "      <td>0.0</td>\n",
       "      <td>0.0</td>\n",
       "      <td>0.0</td>\n",
       "      <td>0</td>\n",
       "      <td>0.0</td>\n",
       "      <td>450.0</td>\n",
       "    </tr>\n",
       "    <tr>\n",
       "      <th>3</th>\n",
       "      <td>70.65</td>\n",
       "      <td>46.666667</td>\n",
       "      <td>35</td>\n",
       "      <td>751.5</td>\n",
       "      <td>1012.5</td>\n",
       "      <td>162.0</td>\n",
       "      <td>0.0</td>\n",
       "      <td>0.0</td>\n",
       "      <td>0.0</td>\n",
       "      <td>0</td>\n",
       "      <td>0.0</td>\n",
       "      <td>450.0</td>\n",
       "    </tr>\n",
       "    <tr>\n",
       "      <th>4</th>\n",
       "      <td>0.00</td>\n",
       "      <td>0.000000</td>\n",
       "      <td>0</td>\n",
       "      <td>785.0</td>\n",
       "      <td>1093.0</td>\n",
       "      <td>178.0</td>\n",
       "      <td>0.0</td>\n",
       "      <td>0.0</td>\n",
       "      <td>0.0</td>\n",
       "      <td>0</td>\n",
       "      <td>0.0</td>\n",
       "      <td>324.0</td>\n",
       "    </tr>\n",
       "  </tbody>\n",
       "</table>\n",
       "</div>"
      ],
      "text/plain": [
       "   fibercontent   Aspect ratio  fiberLength   fine aggregate  \\\n",
       "0           0.00      0.000000             0           751.5   \n",
       "1          23.55     46.666667            35           751.5   \n",
       "2          47.10     46.666667            35           751.5   \n",
       "3          70.65     46.666667            35           751.5   \n",
       "4           0.00      0.000000             0           785.0   \n",
       "\n",
       "   coarse aggregate  water  additivecontent  silicafumecontent  slagcontent  \\\n",
       "0            1012.5  162.0              0.0                0.0          0.0   \n",
       "1            1012.5  162.0              0.0                0.0          0.0   \n",
       "2            1012.5  162.0              0.0                0.0          0.0   \n",
       "3            1012.5  162.0              0.0                0.0          0.0   \n",
       "4            1093.0  178.0              0.0                0.0          0.0   \n",
       "\n",
       "   flyashcontent  metakaolincontent  cementecontent  \n",
       "0              0                0.0           450.0  \n",
       "1              0                0.0           450.0  \n",
       "2              0                0.0           450.0  \n",
       "3              0                0.0           450.0  \n",
       "4              0                0.0           324.0  "
      ]
     },
     "execution_count": 52,
     "metadata": {},
     "output_type": "execute_result"
    }
   ],
   "source": [
    "A.head()"
   ]
  },
  {
   "cell_type": "code",
   "execution_count": 53,
   "id": "debaf33b",
   "metadata": {},
   "outputs": [
    {
     "data": {
      "text/plain": [
       "0      3.60\n",
       "1      3.89\n",
       "2      4.06\n",
       "3      4.27\n",
       "4      3.27\n",
       "       ... \n",
       "247    3.52\n",
       "248    4.74\n",
       "249    4.95\n",
       "250    5.06\n",
       "251    6.67\n",
       "Name: tensilestrength, Length: 252, dtype: float64"
      ]
     },
     "execution_count": 53,
     "metadata": {},
     "output_type": "execute_result"
    }
   ],
   "source": [
    "B"
   ]
  },
  {
   "cell_type": "code",
   "execution_count": 54,
   "id": "6dac9c7e",
   "metadata": {},
   "outputs": [],
   "source": [
    "A_train,A_test,B_train,B_test=train_test_split(A,B,test_size=0.3,random_state=0)"
   ]
  },
  {
   "cell_type": "code",
   "execution_count": 55,
   "id": "a81eb0eb",
   "metadata": {},
   "outputs": [
    {
     "data": {
      "text/plain": [
       "(176, 12)"
      ]
     },
     "execution_count": 55,
     "metadata": {},
     "output_type": "execute_result"
    }
   ],
   "source": [
    "A_train.shape"
   ]
  },
  {
   "cell_type": "code",
   "execution_count": 56,
   "id": "1cb81291",
   "metadata": {},
   "outputs": [
    {
     "data": {
      "text/plain": [
       "(76, 12)"
      ]
     },
     "execution_count": 56,
     "metadata": {},
     "output_type": "execute_result"
    }
   ],
   "source": [
    "A_test.shape"
   ]
  },
  {
   "cell_type": "code",
   "execution_count": 57,
   "id": "693e28d9",
   "metadata": {},
   "outputs": [],
   "source": [
    "lr1 = LinearRegression()"
   ]
  },
  {
   "cell_type": "code",
   "execution_count": 58,
   "id": "0613f6fa",
   "metadata": {},
   "outputs": [
    {
     "data": {
      "text/plain": [
       "LinearRegression()"
      ]
     },
     "execution_count": 58,
     "metadata": {},
     "output_type": "execute_result"
    }
   ],
   "source": [
    "lr1.fit(A_train,B_train)"
   ]
  },
  {
   "cell_type": "code",
   "execution_count": 59,
   "id": "eeeb3bf5",
   "metadata": {},
   "outputs": [
    {
     "data": {
      "text/plain": [
       "0.6249296585183889"
      ]
     },
     "execution_count": 59,
     "metadata": {},
     "output_type": "execute_result"
    }
   ],
   "source": [
    "lr1.score(A_test,B_test)"
   ]
  },
  {
   "cell_type": "code",
   "execution_count": 60,
   "id": "f307554a",
   "metadata": {},
   "outputs": [],
   "source": [
    "rg1 = Ridge()"
   ]
  },
  {
   "cell_type": "code",
   "execution_count": 61,
   "id": "7b0d9de9",
   "metadata": {},
   "outputs": [
    {
     "data": {
      "text/plain": [
       "Ridge()"
      ]
     },
     "execution_count": 61,
     "metadata": {},
     "output_type": "execute_result"
    }
   ],
   "source": [
    "rg1.fit(A_train,B_train)"
   ]
  },
  {
   "cell_type": "code",
   "execution_count": 62,
   "id": "96222413",
   "metadata": {},
   "outputs": [
    {
     "data": {
      "text/plain": [
       "0.6249283706560906"
      ]
     },
     "execution_count": 62,
     "metadata": {},
     "output_type": "execute_result"
    }
   ],
   "source": [
    "rg1.score(A_test,B_test)"
   ]
  },
  {
   "cell_type": "code",
   "execution_count": 63,
   "id": "004da909",
   "metadata": {},
   "outputs": [],
   "source": [
    "ls1 = Lasso()"
   ]
  },
  {
   "cell_type": "code",
   "execution_count": 65,
   "id": "7ff62000",
   "metadata": {},
   "outputs": [
    {
     "data": {
      "text/plain": [
       "Lasso()"
      ]
     },
     "execution_count": 65,
     "metadata": {},
     "output_type": "execute_result"
    }
   ],
   "source": [
    "ls1.fit(A_train,B_train)"
   ]
  },
  {
   "cell_type": "code",
   "execution_count": 66,
   "id": "e48b3f96",
   "metadata": {},
   "outputs": [
    {
     "data": {
      "text/plain": [
       "0.5731438333730247"
      ]
     },
     "execution_count": 66,
     "metadata": {},
     "output_type": "execute_result"
    }
   ],
   "source": [
    "ls1.score(A_test,B_test)"
   ]
  },
  {
   "cell_type": "code",
   "execution_count": 67,
   "id": "afc3f8b7",
   "metadata": {},
   "outputs": [],
   "source": [
    "xgbr1 = XGBRegressor()"
   ]
  },
  {
   "cell_type": "code",
   "execution_count": 68,
   "id": "f91428a4",
   "metadata": {},
   "outputs": [
    {
     "data": {
      "text/plain": [
       "XGBRegressor(base_score=0.5, booster='gbtree', callbacks=None,\n",
       "             colsample_bylevel=1, colsample_bynode=1, colsample_bytree=1,\n",
       "             early_stopping_rounds=None, enable_categorical=False,\n",
       "             eval_metric=None, gamma=0, gpu_id=-1, grow_policy='depthwise',\n",
       "             importance_type=None, interaction_constraints='',\n",
       "             learning_rate=0.300000012, max_bin=256, max_cat_to_onehot=4,\n",
       "             max_delta_step=0, max_depth=6, max_leaves=0, min_child_weight=1,\n",
       "             missing=nan, monotone_constraints='()', n_estimators=100, n_jobs=0,\n",
       "             num_parallel_tree=1, predictor='auto', random_state=0, reg_alpha=0,\n",
       "             reg_lambda=1, ...)"
      ]
     },
     "execution_count": 68,
     "metadata": {},
     "output_type": "execute_result"
    }
   ],
   "source": [
    "xgbr1.fit(A_train,B_train)"
   ]
  },
  {
   "cell_type": "code",
   "execution_count": 69,
   "id": "33088e92",
   "metadata": {},
   "outputs": [
    {
     "data": {
      "text/plain": [
       "0.8933153313591671"
      ]
     },
     "execution_count": 69,
     "metadata": {},
     "output_type": "execute_result"
    }
   ],
   "source": [
    "xgbr1.score(A_test,B_test)"
   ]
  },
  {
   "cell_type": "code",
   "execution_count": 70,
   "id": "583c78cd",
   "metadata": {},
   "outputs": [],
   "source": [
    "rfr1 = RandomForestRegressor()"
   ]
  },
  {
   "cell_type": "code",
   "execution_count": 72,
   "id": "51c97efe",
   "metadata": {},
   "outputs": [
    {
     "data": {
      "text/plain": [
       "RandomForestRegressor()"
      ]
     },
     "execution_count": 72,
     "metadata": {},
     "output_type": "execute_result"
    }
   ],
   "source": [
    "rfr1.fit(A_train,B_train)"
   ]
  },
  {
   "cell_type": "code",
   "execution_count": 73,
   "id": "4b46e52b",
   "metadata": {},
   "outputs": [
    {
     "data": {
      "text/plain": [
       "0.8308576313711414"
      ]
     },
     "execution_count": 73,
     "metadata": {},
     "output_type": "execute_result"
    }
   ],
   "source": [
    "rfr1.score(A_test,B_test)"
   ]
  },
  {
   "cell_type": "code",
   "execution_count": 74,
   "id": "dc65c925",
   "metadata": {},
   "outputs": [],
   "source": [
    "rfr1 = RandomForestRegressor(n_estimators=500,random_state=0)"
   ]
  },
  {
   "cell_type": "code",
   "execution_count": 75,
   "id": "50eb9c09",
   "metadata": {},
   "outputs": [
    {
     "data": {
      "text/plain": [
       "RandomForestRegressor(n_estimators=500, random_state=0)"
      ]
     },
     "execution_count": 75,
     "metadata": {},
     "output_type": "execute_result"
    }
   ],
   "source": [
    "rfr1.fit(A_train,B_train)"
   ]
  },
  {
   "cell_type": "code",
   "execution_count": 76,
   "id": "84ef3a27",
   "metadata": {},
   "outputs": [
    {
     "data": {
      "text/plain": [
       "0.8388276735244509"
      ]
     },
     "execution_count": 76,
     "metadata": {},
     "output_type": "execute_result"
    }
   ],
   "source": [
    "rfr1.score(A_test,B_test)"
   ]
  },
  {
   "cell_type": "code",
   "execution_count": null,
   "id": "23c6e909",
   "metadata": {},
   "outputs": [],
   "source": [
    "#spltting and modeling third sheet - Flexural Strength"
   ]
  },
  {
   "cell_type": "code",
   "execution_count": 77,
   "id": "c5ab6cbf",
   "metadata": {},
   "outputs": [],
   "source": [
    "C = data3.drop(labels = ['flexuralstrength'], axis=1)"
   ]
  },
  {
   "cell_type": "code",
   "execution_count": 78,
   "id": "0a936f2c",
   "metadata": {},
   "outputs": [],
   "source": [
    "D = data3['flexuralstrength']"
   ]
  },
  {
   "cell_type": "code",
   "execution_count": 79,
   "id": "10d7f444",
   "metadata": {},
   "outputs": [
    {
     "data": {
      "text/html": [
       "<div>\n",
       "<style scoped>\n",
       "    .dataframe tbody tr th:only-of-type {\n",
       "        vertical-align: middle;\n",
       "    }\n",
       "\n",
       "    .dataframe tbody tr th {\n",
       "        vertical-align: top;\n",
       "    }\n",
       "\n",
       "    .dataframe thead th {\n",
       "        text-align: right;\n",
       "    }\n",
       "</style>\n",
       "<table border=\"1\" class=\"dataframe\">\n",
       "  <thead>\n",
       "    <tr style=\"text-align: right;\">\n",
       "      <th></th>\n",
       "      <th>fibercontent</th>\n",
       "      <th>Aspect ratio</th>\n",
       "      <th>fiberLength</th>\n",
       "      <th>fine aggregate</th>\n",
       "      <th>coarse aggregate</th>\n",
       "      <th>water</th>\n",
       "      <th>additivecontent</th>\n",
       "      <th>silicafumecontent</th>\n",
       "      <th>slagcontent</th>\n",
       "      <th>flyashcontent</th>\n",
       "      <th>metakaolincontent</th>\n",
       "      <th>cementecontent</th>\n",
       "    </tr>\n",
       "  </thead>\n",
       "  <tbody>\n",
       "    <tr>\n",
       "      <th>0</th>\n",
       "      <td>0.00</td>\n",
       "      <td>0.000000</td>\n",
       "      <td>0.0</td>\n",
       "      <td>751.50</td>\n",
       "      <td>1012.50</td>\n",
       "      <td>162.0</td>\n",
       "      <td>0.00</td>\n",
       "      <td>0.0</td>\n",
       "      <td>0.0</td>\n",
       "      <td>0</td>\n",
       "      <td>0.0</td>\n",
       "      <td>450.0</td>\n",
       "    </tr>\n",
       "    <tr>\n",
       "      <th>1</th>\n",
       "      <td>23.55</td>\n",
       "      <td>46.666667</td>\n",
       "      <td>35.0</td>\n",
       "      <td>751.50</td>\n",
       "      <td>1012.50</td>\n",
       "      <td>162.0</td>\n",
       "      <td>0.00</td>\n",
       "      <td>0.0</td>\n",
       "      <td>0.0</td>\n",
       "      <td>0</td>\n",
       "      <td>0.0</td>\n",
       "      <td>450.0</td>\n",
       "    </tr>\n",
       "    <tr>\n",
       "      <th>2</th>\n",
       "      <td>47.10</td>\n",
       "      <td>46.666667</td>\n",
       "      <td>35.0</td>\n",
       "      <td>751.50</td>\n",
       "      <td>1012.50</td>\n",
       "      <td>162.0</td>\n",
       "      <td>0.00</td>\n",
       "      <td>0.0</td>\n",
       "      <td>0.0</td>\n",
       "      <td>0</td>\n",
       "      <td>0.0</td>\n",
       "      <td>450.0</td>\n",
       "    </tr>\n",
       "    <tr>\n",
       "      <th>3</th>\n",
       "      <td>70.65</td>\n",
       "      <td>46.666667</td>\n",
       "      <td>35.0</td>\n",
       "      <td>751.50</td>\n",
       "      <td>1012.50</td>\n",
       "      <td>162.0</td>\n",
       "      <td>0.00</td>\n",
       "      <td>0.0</td>\n",
       "      <td>0.0</td>\n",
       "      <td>0</td>\n",
       "      <td>0.0</td>\n",
       "      <td>450.0</td>\n",
       "    </tr>\n",
       "    <tr>\n",
       "      <th>4</th>\n",
       "      <td>0.00</td>\n",
       "      <td>0.000000</td>\n",
       "      <td>0.0</td>\n",
       "      <td>784.08</td>\n",
       "      <td>1091.88</td>\n",
       "      <td>178.2</td>\n",
       "      <td>0.00</td>\n",
       "      <td>0.0</td>\n",
       "      <td>0.0</td>\n",
       "      <td>0</td>\n",
       "      <td>0.0</td>\n",
       "      <td>324.0</td>\n",
       "    </tr>\n",
       "    <tr>\n",
       "      <th>...</th>\n",
       "      <td>...</td>\n",
       "      <td>...</td>\n",
       "      <td>...</td>\n",
       "      <td>...</td>\n",
       "      <td>...</td>\n",
       "      <td>...</td>\n",
       "      <td>...</td>\n",
       "      <td>...</td>\n",
       "      <td>...</td>\n",
       "      <td>...</td>\n",
       "      <td>...</td>\n",
       "      <td>...</td>\n",
       "    </tr>\n",
       "    <tr>\n",
       "      <th>273</th>\n",
       "      <td>0.00</td>\n",
       "      <td>0.000000</td>\n",
       "      <td>0.0</td>\n",
       "      <td>848.00</td>\n",
       "      <td>1128.00</td>\n",
       "      <td>148.0</td>\n",
       "      <td>2.11</td>\n",
       "      <td>0.0</td>\n",
       "      <td>0.0</td>\n",
       "      <td>0</td>\n",
       "      <td>0.0</td>\n",
       "      <td>423.0</td>\n",
       "    </tr>\n",
       "    <tr>\n",
       "      <th>274</th>\n",
       "      <td>47.10</td>\n",
       "      <td>75.000000</td>\n",
       "      <td>60.0</td>\n",
       "      <td>848.00</td>\n",
       "      <td>1128.00</td>\n",
       "      <td>148.0</td>\n",
       "      <td>2.11</td>\n",
       "      <td>0.0</td>\n",
       "      <td>0.0</td>\n",
       "      <td>0</td>\n",
       "      <td>0.0</td>\n",
       "      <td>423.0</td>\n",
       "    </tr>\n",
       "    <tr>\n",
       "      <th>275</th>\n",
       "      <td>70.65</td>\n",
       "      <td>75.000000</td>\n",
       "      <td>60.0</td>\n",
       "      <td>848.00</td>\n",
       "      <td>1128.00</td>\n",
       "      <td>148.0</td>\n",
       "      <td>2.11</td>\n",
       "      <td>0.0</td>\n",
       "      <td>0.0</td>\n",
       "      <td>0</td>\n",
       "      <td>0.0</td>\n",
       "      <td>423.0</td>\n",
       "    </tr>\n",
       "    <tr>\n",
       "      <th>276</th>\n",
       "      <td>94.20</td>\n",
       "      <td>75.000000</td>\n",
       "      <td>60.0</td>\n",
       "      <td>848.00</td>\n",
       "      <td>1128.00</td>\n",
       "      <td>148.0</td>\n",
       "      <td>2.11</td>\n",
       "      <td>0.0</td>\n",
       "      <td>0.0</td>\n",
       "      <td>0</td>\n",
       "      <td>0.0</td>\n",
       "      <td>423.0</td>\n",
       "    </tr>\n",
       "    <tr>\n",
       "      <th>277</th>\n",
       "      <td>117.75</td>\n",
       "      <td>75.000000</td>\n",
       "      <td>60.0</td>\n",
       "      <td>848.00</td>\n",
       "      <td>1128.00</td>\n",
       "      <td>148.0</td>\n",
       "      <td>2.11</td>\n",
       "      <td>0.0</td>\n",
       "      <td>0.0</td>\n",
       "      <td>0</td>\n",
       "      <td>0.0</td>\n",
       "      <td>423.0</td>\n",
       "    </tr>\n",
       "  </tbody>\n",
       "</table>\n",
       "<p>278 rows × 12 columns</p>\n",
       "</div>"
      ],
      "text/plain": [
       "     fibercontent   Aspect ratio  fiberLength   fine aggregate  \\\n",
       "0             0.00      0.000000           0.0          751.50   \n",
       "1            23.55     46.666667          35.0          751.50   \n",
       "2            47.10     46.666667          35.0          751.50   \n",
       "3            70.65     46.666667          35.0          751.50   \n",
       "4             0.00      0.000000           0.0          784.08   \n",
       "..             ...           ...           ...             ...   \n",
       "273           0.00      0.000000           0.0          848.00   \n",
       "274          47.10     75.000000          60.0          848.00   \n",
       "275          70.65     75.000000          60.0          848.00   \n",
       "276          94.20     75.000000          60.0          848.00   \n",
       "277         117.75     75.000000          60.0          848.00   \n",
       "\n",
       "     coarse aggregate  water  additivecontent  silicafumecontent  slagcontent  \\\n",
       "0             1012.50  162.0             0.00                0.0          0.0   \n",
       "1             1012.50  162.0             0.00                0.0          0.0   \n",
       "2             1012.50  162.0             0.00                0.0          0.0   \n",
       "3             1012.50  162.0             0.00                0.0          0.0   \n",
       "4             1091.88  178.2             0.00                0.0          0.0   \n",
       "..                ...    ...              ...                ...          ...   \n",
       "273           1128.00  148.0             2.11                0.0          0.0   \n",
       "274           1128.00  148.0             2.11                0.0          0.0   \n",
       "275           1128.00  148.0             2.11                0.0          0.0   \n",
       "276           1128.00  148.0             2.11                0.0          0.0   \n",
       "277           1128.00  148.0             2.11                0.0          0.0   \n",
       "\n",
       "     flyashcontent  metakaolincontent  cementecontent  \n",
       "0                0                0.0           450.0  \n",
       "1                0                0.0           450.0  \n",
       "2                0                0.0           450.0  \n",
       "3                0                0.0           450.0  \n",
       "4                0                0.0           324.0  \n",
       "..             ...                ...             ...  \n",
       "273              0                0.0           423.0  \n",
       "274              0                0.0           423.0  \n",
       "275              0                0.0           423.0  \n",
       "276              0                0.0           423.0  \n",
       "277              0                0.0           423.0  \n",
       "\n",
       "[278 rows x 12 columns]"
      ]
     },
     "execution_count": 79,
     "metadata": {},
     "output_type": "execute_result"
    }
   ],
   "source": [
    "C"
   ]
  },
  {
   "cell_type": "code",
   "execution_count": 80,
   "id": "39f4ba54",
   "metadata": {},
   "outputs": [
    {
     "data": {
      "text/plain": [
       "0       4.360\n",
       "1       4.660\n",
       "2       5.070\n",
       "3       5.410\n",
       "4       4.740\n",
       "        ...  \n",
       "273     9.680\n",
       "274    12.010\n",
       "275    13.140\n",
       "276    13.582\n",
       "277    16.470\n",
       "Name: flexuralstrength, Length: 278, dtype: float64"
      ]
     },
     "execution_count": 80,
     "metadata": {},
     "output_type": "execute_result"
    }
   ],
   "source": [
    "D"
   ]
  },
  {
   "cell_type": "code",
   "execution_count": 81,
   "id": "ea561730",
   "metadata": {},
   "outputs": [],
   "source": [
    "C_train,C_test,D_train,D_test=train_test_split(C,D,test_size=0.3,random_state=0)"
   ]
  },
  {
   "cell_type": "code",
   "execution_count": 82,
   "id": "2a84fc6d",
   "metadata": {},
   "outputs": [
    {
     "data": {
      "text/plain": [
       "(194, 12)"
      ]
     },
     "execution_count": 82,
     "metadata": {},
     "output_type": "execute_result"
    }
   ],
   "source": [
    "C_train.shape"
   ]
  },
  {
   "cell_type": "code",
   "execution_count": 83,
   "id": "f4f03500",
   "metadata": {},
   "outputs": [
    {
     "data": {
      "text/plain": [
       "(84, 12)"
      ]
     },
     "execution_count": 83,
     "metadata": {},
     "output_type": "execute_result"
    }
   ],
   "source": [
    "C_test.shape"
   ]
  },
  {
   "cell_type": "code",
   "execution_count": 85,
   "id": "361d9528",
   "metadata": {},
   "outputs": [],
   "source": [
    "lr2 = LinearRegression()"
   ]
  },
  {
   "cell_type": "code",
   "execution_count": 86,
   "id": "1532a2f3",
   "metadata": {},
   "outputs": [
    {
     "data": {
      "text/plain": [
       "LinearRegression()"
      ]
     },
     "execution_count": 86,
     "metadata": {},
     "output_type": "execute_result"
    }
   ],
   "source": [
    "lr2.fit(C_train,D_train)"
   ]
  },
  {
   "cell_type": "code",
   "execution_count": 87,
   "id": "1639eb66",
   "metadata": {},
   "outputs": [
    {
     "data": {
      "text/plain": [
       "0.2872962259125704"
      ]
     },
     "execution_count": 87,
     "metadata": {},
     "output_type": "execute_result"
    }
   ],
   "source": [
    "lr2.score(C_test,D_test)"
   ]
  },
  {
   "cell_type": "code",
   "execution_count": 89,
   "id": "e06edac2",
   "metadata": {},
   "outputs": [],
   "source": [
    "ls2 = Lasso()"
   ]
  },
  {
   "cell_type": "code",
   "execution_count": 91,
   "id": "35814f15",
   "metadata": {},
   "outputs": [
    {
     "data": {
      "text/plain": [
       "Lasso()"
      ]
     },
     "execution_count": 91,
     "metadata": {},
     "output_type": "execute_result"
    }
   ],
   "source": [
    "ls2.fit(C_train,D_train)"
   ]
  },
  {
   "cell_type": "code",
   "execution_count": 94,
   "id": "1dc2f4a0",
   "metadata": {},
   "outputs": [
    {
     "data": {
      "text/plain": [
       "0.2837177066635599"
      ]
     },
     "execution_count": 94,
     "metadata": {},
     "output_type": "execute_result"
    }
   ],
   "source": [
    "ls2.score(C_test,D_test)"
   ]
  },
  {
   "cell_type": "code",
   "execution_count": 93,
   "id": "73f9fd57",
   "metadata": {},
   "outputs": [
    {
     "data": {
      "text/plain": [
       "219     4.31\n",
       "226     5.70\n",
       "191     7.16\n",
       "15      7.80\n",
       "55      9.57\n",
       "       ...  \n",
       "218     4.31\n",
       "248     9.20\n",
       "152    10.14\n",
       "71      2.30\n",
       "205    11.94\n",
       "Name: flexuralstrength, Length: 84, dtype: float64"
      ]
     },
     "execution_count": 93,
     "metadata": {},
     "output_type": "execute_result"
    }
   ],
   "source": [
    "D_test"
   ]
  },
  {
   "cell_type": "code",
   "execution_count": 96,
   "id": "347105c2",
   "metadata": {},
   "outputs": [],
   "source": [
    "rdg2 = Ridge()"
   ]
  },
  {
   "cell_type": "code",
   "execution_count": 97,
   "id": "3190ece5",
   "metadata": {},
   "outputs": [
    {
     "data": {
      "text/plain": [
       "Ridge()"
      ]
     },
     "execution_count": 97,
     "metadata": {},
     "output_type": "execute_result"
    }
   ],
   "source": [
    "rdg2.fit(C_train,D_train)"
   ]
  },
  {
   "cell_type": "code",
   "execution_count": 98,
   "id": "242516bd",
   "metadata": {},
   "outputs": [
    {
     "data": {
      "text/plain": [
       "0.28731549490086217"
      ]
     },
     "execution_count": 98,
     "metadata": {},
     "output_type": "execute_result"
    }
   ],
   "source": [
    "rdg2.score(C_test,D_test)"
   ]
  },
  {
   "cell_type": "code",
   "execution_count": 99,
   "id": "75999e19",
   "metadata": {},
   "outputs": [],
   "source": [
    "xgbr2 = XGBRegressor()"
   ]
  },
  {
   "cell_type": "code",
   "execution_count": 100,
   "id": "15d67907",
   "metadata": {},
   "outputs": [
    {
     "data": {
      "text/plain": [
       "XGBRegressor(base_score=0.5, booster='gbtree', callbacks=None,\n",
       "             colsample_bylevel=1, colsample_bynode=1, colsample_bytree=1,\n",
       "             early_stopping_rounds=None, enable_categorical=False,\n",
       "             eval_metric=None, gamma=0, gpu_id=-1, grow_policy='depthwise',\n",
       "             importance_type=None, interaction_constraints='',\n",
       "             learning_rate=0.300000012, max_bin=256, max_cat_to_onehot=4,\n",
       "             max_delta_step=0, max_depth=6, max_leaves=0, min_child_weight=1,\n",
       "             missing=nan, monotone_constraints='()', n_estimators=100, n_jobs=0,\n",
       "             num_parallel_tree=1, predictor='auto', random_state=0, reg_alpha=0,\n",
       "             reg_lambda=1, ...)"
      ]
     },
     "execution_count": 100,
     "metadata": {},
     "output_type": "execute_result"
    }
   ],
   "source": [
    "xgbr2.fit(C_train,D_train)"
   ]
  },
  {
   "cell_type": "code",
   "execution_count": 101,
   "id": "8836ffb8",
   "metadata": {},
   "outputs": [
    {
     "data": {
      "text/plain": [
       "0.8029210800480042"
      ]
     },
     "execution_count": 101,
     "metadata": {},
     "output_type": "execute_result"
    }
   ],
   "source": [
    "xgbr2.score(C_test,D_test)"
   ]
  },
  {
   "cell_type": "code",
   "execution_count": 102,
   "id": "8d465e9f",
   "metadata": {},
   "outputs": [],
   "source": [
    "rfr2 = RandomForestRegressor()"
   ]
  },
  {
   "cell_type": "code",
   "execution_count": 103,
   "id": "1aa61715",
   "metadata": {},
   "outputs": [
    {
     "data": {
      "text/plain": [
       "RandomForestRegressor()"
      ]
     },
     "execution_count": 103,
     "metadata": {},
     "output_type": "execute_result"
    }
   ],
   "source": [
    "rfr2.fit(C_train,D_train)"
   ]
  },
  {
   "cell_type": "code",
   "execution_count": 104,
   "id": "72235686",
   "metadata": {},
   "outputs": [
    {
     "data": {
      "text/plain": [
       "0.8476155987213555"
      ]
     },
     "execution_count": 104,
     "metadata": {},
     "output_type": "execute_result"
    }
   ],
   "source": [
    "rfr2.score(C_test,D_test)"
   ]
  },
  {
   "cell_type": "code",
   "execution_count": 105,
   "id": "8184261d",
   "metadata": {},
   "outputs": [],
   "source": [
    "rfr2 = RandomForestRegressor(n_estimators=500,random_state=0)"
   ]
  },
  {
   "cell_type": "code",
   "execution_count": 106,
   "id": "ad95c9fc",
   "metadata": {},
   "outputs": [
    {
     "data": {
      "text/plain": [
       "RandomForestRegressor(n_estimators=500, random_state=0)"
      ]
     },
     "execution_count": 106,
     "metadata": {},
     "output_type": "execute_result"
    }
   ],
   "source": [
    "rfr2.fit(C_train,D_train)"
   ]
  },
  {
   "cell_type": "code",
   "execution_count": 107,
   "id": "2bca1f4f",
   "metadata": {},
   "outputs": [
    {
     "data": {
      "text/plain": [
       "0.8569268439003429"
      ]
     },
     "execution_count": 107,
     "metadata": {},
     "output_type": "execute_result"
    }
   ],
   "source": [
    "rfr2.score(C_test,D_test)"
   ]
  },
  {
   "cell_type": "code",
   "execution_count": null,
   "id": "9d699f4d",
   "metadata": {},
   "outputs": [],
   "source": []
  }
 ],
 "metadata": {
  "kernelspec": {
   "display_name": "Python 3 (ipykernel)",
   "language": "python",
   "name": "python3"
  },
  "language_info": {
   "codemirror_mode": {
    "name": "ipython",
    "version": 3
   },
   "file_extension": ".py",
   "mimetype": "text/x-python",
   "name": "python",
   "nbconvert_exporter": "python",
   "pygments_lexer": "ipython3",
   "version": "3.10.2"
  }
 },
 "nbformat": 4,
 "nbformat_minor": 5
}
