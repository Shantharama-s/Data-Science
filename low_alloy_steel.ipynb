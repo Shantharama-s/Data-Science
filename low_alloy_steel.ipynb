{
 "cells": [
  {
   "cell_type": "code",
   "execution_count": 1,
   "id": "d889f1fa",
   "metadata": {},
   "outputs": [],
   "source": [
    "import pandas as pd\n",
    "import numpy as np\n",
    "import matplotlib.pyplot as plt\n",
    "import seaborn as sns"
   ]
  },
  {
   "cell_type": "code",
   "execution_count": 2,
   "id": "24778548",
   "metadata": {},
   "outputs": [],
   "source": [
    "data = pd.read_csv('MatNavi_Mechanical_properties_of_low_alloy_steels.csv')"
   ]
  },
  {
   "cell_type": "code",
   "execution_count": 3,
   "id": "eb5f24b3",
   "metadata": {},
   "outputs": [
    {
     "data": {
      "text/html": [
       "<div>\n",
       "<style scoped>\n",
       "    .dataframe tbody tr th:only-of-type {\n",
       "        vertical-align: middle;\n",
       "    }\n",
       "\n",
       "    .dataframe tbody tr th {\n",
       "        vertical-align: top;\n",
       "    }\n",
       "\n",
       "    .dataframe thead th {\n",
       "        text-align: right;\n",
       "    }\n",
       "</style>\n",
       "<table border=\"1\" class=\"dataframe\">\n",
       "  <thead>\n",
       "    <tr style=\"text-align: right;\">\n",
       "      <th></th>\n",
       "      <th>0</th>\n",
       "      <th>1</th>\n",
       "      <th>2</th>\n",
       "      <th>3</th>\n",
       "      <th>4</th>\n",
       "    </tr>\n",
       "  </thead>\n",
       "  <tbody>\n",
       "    <tr>\n",
       "      <th>Alloy code</th>\n",
       "      <td>MBB</td>\n",
       "      <td>MBB</td>\n",
       "      <td>MBB</td>\n",
       "      <td>MBB</td>\n",
       "      <td>MBB</td>\n",
       "    </tr>\n",
       "    <tr>\n",
       "      <th>C</th>\n",
       "      <td>0.12</td>\n",
       "      <td>0.12</td>\n",
       "      <td>0.12</td>\n",
       "      <td>0.12</td>\n",
       "      <td>0.12</td>\n",
       "    </tr>\n",
       "    <tr>\n",
       "      <th>Si</th>\n",
       "      <td>0.36</td>\n",
       "      <td>0.36</td>\n",
       "      <td>0.36</td>\n",
       "      <td>0.36</td>\n",
       "      <td>0.36</td>\n",
       "    </tr>\n",
       "    <tr>\n",
       "      <th>Mn</th>\n",
       "      <td>0.52</td>\n",
       "      <td>0.52</td>\n",
       "      <td>0.52</td>\n",
       "      <td>0.52</td>\n",
       "      <td>0.52</td>\n",
       "    </tr>\n",
       "    <tr>\n",
       "      <th>P</th>\n",
       "      <td>0.009</td>\n",
       "      <td>0.009</td>\n",
       "      <td>0.009</td>\n",
       "      <td>0.009</td>\n",
       "      <td>0.009</td>\n",
       "    </tr>\n",
       "    <tr>\n",
       "      <th>S</th>\n",
       "      <td>0.003</td>\n",
       "      <td>0.003</td>\n",
       "      <td>0.003</td>\n",
       "      <td>0.003</td>\n",
       "      <td>0.003</td>\n",
       "    </tr>\n",
       "    <tr>\n",
       "      <th>Ni</th>\n",
       "      <td>0.089</td>\n",
       "      <td>0.089</td>\n",
       "      <td>0.089</td>\n",
       "      <td>0.089</td>\n",
       "      <td>0.089</td>\n",
       "    </tr>\n",
       "    <tr>\n",
       "      <th>Cr</th>\n",
       "      <td>0.97</td>\n",
       "      <td>0.97</td>\n",
       "      <td>0.97</td>\n",
       "      <td>0.97</td>\n",
       "      <td>0.97</td>\n",
       "    </tr>\n",
       "    <tr>\n",
       "      <th>Mo</th>\n",
       "      <td>0.61</td>\n",
       "      <td>0.61</td>\n",
       "      <td>0.61</td>\n",
       "      <td>0.61</td>\n",
       "      <td>0.61</td>\n",
       "    </tr>\n",
       "    <tr>\n",
       "      <th>Cu</th>\n",
       "      <td>0.04</td>\n",
       "      <td>0.04</td>\n",
       "      <td>0.04</td>\n",
       "      <td>0.04</td>\n",
       "      <td>0.04</td>\n",
       "    </tr>\n",
       "    <tr>\n",
       "      <th>V</th>\n",
       "      <td>0.0</td>\n",
       "      <td>0.0</td>\n",
       "      <td>0.0</td>\n",
       "      <td>0.0</td>\n",
       "      <td>0.0</td>\n",
       "    </tr>\n",
       "    <tr>\n",
       "      <th>Al</th>\n",
       "      <td>0.003</td>\n",
       "      <td>0.003</td>\n",
       "      <td>0.003</td>\n",
       "      <td>0.003</td>\n",
       "      <td>0.003</td>\n",
       "    </tr>\n",
       "    <tr>\n",
       "      <th>N</th>\n",
       "      <td>0.0066</td>\n",
       "      <td>0.0066</td>\n",
       "      <td>0.0066</td>\n",
       "      <td>0.0066</td>\n",
       "      <td>0.0066</td>\n",
       "    </tr>\n",
       "    <tr>\n",
       "      <th>Ceq</th>\n",
       "      <td>0.0</td>\n",
       "      <td>0.0</td>\n",
       "      <td>0.0</td>\n",
       "      <td>0.0</td>\n",
       "      <td>0.0</td>\n",
       "    </tr>\n",
       "    <tr>\n",
       "      <th>Nb + Ta</th>\n",
       "      <td>0.0</td>\n",
       "      <td>0.0</td>\n",
       "      <td>0.0</td>\n",
       "      <td>0.0</td>\n",
       "      <td>0.0</td>\n",
       "    </tr>\n",
       "    <tr>\n",
       "      <th>Temperature (°C)</th>\n",
       "      <td>27</td>\n",
       "      <td>100</td>\n",
       "      <td>200</td>\n",
       "      <td>300</td>\n",
       "      <td>400</td>\n",
       "    </tr>\n",
       "    <tr>\n",
       "      <th>0.2% Proof Stress (MPa)</th>\n",
       "      <td>342</td>\n",
       "      <td>338</td>\n",
       "      <td>337</td>\n",
       "      <td>346</td>\n",
       "      <td>316</td>\n",
       "    </tr>\n",
       "    <tr>\n",
       "      <th>Tensile Strength (MPa)</th>\n",
       "      <td>490</td>\n",
       "      <td>454</td>\n",
       "      <td>465</td>\n",
       "      <td>495</td>\n",
       "      <td>489</td>\n",
       "    </tr>\n",
       "    <tr>\n",
       "      <th>Elongation (%)</th>\n",
       "      <td>30</td>\n",
       "      <td>27</td>\n",
       "      <td>23</td>\n",
       "      <td>21</td>\n",
       "      <td>26</td>\n",
       "    </tr>\n",
       "    <tr>\n",
       "      <th>Reduction in Area (%)</th>\n",
       "      <td>71</td>\n",
       "      <td>72</td>\n",
       "      <td>69</td>\n",
       "      <td>70</td>\n",
       "      <td>79</td>\n",
       "    </tr>\n",
       "  </tbody>\n",
       "</table>\n",
       "</div>"
      ],
      "text/plain": [
       "                               0       1       2       3       4\n",
       "Alloy code                   MBB     MBB     MBB     MBB     MBB\n",
       " C                          0.12    0.12    0.12    0.12    0.12\n",
       " Si                         0.36    0.36    0.36    0.36    0.36\n",
       " Mn                         0.52    0.52    0.52    0.52    0.52\n",
       " P                         0.009   0.009   0.009   0.009   0.009\n",
       " S                         0.003   0.003   0.003   0.003   0.003\n",
       " Ni                        0.089   0.089   0.089   0.089   0.089\n",
       " Cr                         0.97    0.97    0.97    0.97    0.97\n",
       " Mo                         0.61    0.61    0.61    0.61    0.61\n",
       " Cu                         0.04    0.04    0.04    0.04    0.04\n",
       "V                            0.0     0.0     0.0     0.0     0.0\n",
       " Al                        0.003   0.003   0.003   0.003   0.003\n",
       " N                        0.0066  0.0066  0.0066  0.0066  0.0066\n",
       "Ceq                          0.0     0.0     0.0     0.0     0.0\n",
       "Nb + Ta                      0.0     0.0     0.0     0.0     0.0\n",
       " Temperature (°C)             27     100     200     300     400\n",
       " 0.2% Proof Stress (MPa)     342     338     337     346     316\n",
       " Tensile Strength (MPa)      490     454     465     495     489\n",
       " Elongation (%)               30      27      23      21      26\n",
       " Reduction in Area (%)        71      72      69      70      79"
      ]
     },
     "execution_count": 3,
     "metadata": {},
     "output_type": "execute_result"
    }
   ],
   "source": [
    "data.head().T"
   ]
  },
  {
   "cell_type": "code",
   "execution_count": 6,
   "id": "1c86c507",
   "metadata": {},
   "outputs": [
    {
     "name": "stdout",
     "output_type": "stream",
     "text": [
      "<class 'pandas.core.frame.DataFrame'>\n",
      "RangeIndex: 915 entries, 0 to 914\n",
      "Data columns (total 20 columns):\n",
      " #   Column                    Non-Null Count  Dtype  \n",
      "---  ------                    --------------  -----  \n",
      " 0   Alloy code                915 non-null    object \n",
      " 1    C                        915 non-null    float64\n",
      " 2    Si                       915 non-null    float64\n",
      " 3    Mn                       915 non-null    float64\n",
      " 4    P                        915 non-null    float64\n",
      " 5    S                        915 non-null    float64\n",
      " 6    Ni                       915 non-null    float64\n",
      " 7    Cr                       915 non-null    float64\n",
      " 8    Mo                       915 non-null    float64\n",
      " 9    Cu                       915 non-null    float64\n",
      " 10  V                         915 non-null    float64\n",
      " 11   Al                       915 non-null    float64\n",
      " 12   N                        915 non-null    float64\n",
      " 13  Ceq                       915 non-null    float64\n",
      " 14  Nb + Ta                   915 non-null    float64\n",
      " 15   Temperature (°C)         915 non-null    int64  \n",
      " 16   0.2% Proof Stress (MPa)  915 non-null    int64  \n",
      " 17   Tensile Strength (MPa)   915 non-null    int64  \n",
      " 18   Elongation (%)           915 non-null    int64  \n",
      " 19   Reduction in Area (%)    915 non-null    int64  \n",
      "dtypes: float64(14), int64(5), object(1)\n",
      "memory usage: 143.1+ KB\n"
     ]
    }
   ],
   "source": [
    "data.info()"
   ]
  },
  {
   "cell_type": "code",
   "execution_count": 4,
   "id": "e728a689",
   "metadata": {},
   "outputs": [
    {
     "data": {
      "text/plain": [
       "Alloy code                  0\n",
       " C                          0\n",
       " Si                         0\n",
       " Mn                         0\n",
       " P                          0\n",
       " S                          0\n",
       " Ni                         0\n",
       " Cr                         0\n",
       " Mo                         0\n",
       " Cu                         0\n",
       "V                           0\n",
       " Al                         0\n",
       " N                          0\n",
       "Ceq                         0\n",
       "Nb + Ta                     0\n",
       " Temperature (°C)           0\n",
       " 0.2% Proof Stress (MPa)    0\n",
       " Tensile Strength (MPa)     0\n",
       " Elongation (%)             0\n",
       " Reduction in Area (%)      0\n",
       "dtype: int64"
      ]
     },
     "execution_count": 4,
     "metadata": {},
     "output_type": "execute_result"
    }
   ],
   "source": [
    "data.isnull().sum()"
   ]
  },
  {
   "cell_type": "code",
   "execution_count": 5,
   "id": "4852b447",
   "metadata": {},
   "outputs": [
    {
     "data": {
      "image/png": "[encoded data removed]",
      "text/plain": [
       "<Figure size 1008x1008 with 2 Axes>"
      ]
     },
     "metadata": {
      "needs_background": "light"
     },
     "output_type": "display_data"
    }
   ],
   "source": [
    "corr = data.corr()\n",
    "\n",
    "plt.figure(figsize=(14,14))\n",
    "plt.title(\"Heatmap displaying the correlations between all columns\", fontsize=20)\n",
    "sns.heatmap(corr, center=0, annot=True, cmap=\"YlGnBu\", cbar_kws={'label': 'Correlation Value'})\n",
    "plt.show()"
   ]
  },
  {
   "cell_type": "code",
   "execution_count": 7,
   "id": "ad5fceae",
   "metadata": {
    "scrolled": true
   },
   "outputs": [
    {
     "data": {
      "text/html": [
       "<div>\n",
       "<style scoped>\n",
       "    .dataframe tbody tr th:only-of-type {\n",
       "        vertical-align: middle;\n",
       "    }\n",
       "\n",
       "    .dataframe tbody tr th {\n",
       "        vertical-align: top;\n",
       "    }\n",
       "\n",
       "    .dataframe thead th {\n",
       "        text-align: right;\n",
       "    }\n",
       "</style>\n",
       "<table border=\"1\" class=\"dataframe\">\n",
       "  <thead>\n",
       "    <tr style=\"text-align: right;\">\n",
       "      <th></th>\n",
       "      <th>0</th>\n",
       "      <th>1</th>\n",
       "      <th>2</th>\n",
       "      <th>3</th>\n",
       "      <th>4</th>\n",
       "    </tr>\n",
       "  </thead>\n",
       "  <tbody>\n",
       "    <tr>\n",
       "      <th>C</th>\n",
       "      <td>0.1200</td>\n",
       "      <td>0.1200</td>\n",
       "      <td>0.1200</td>\n",
       "      <td>0.1200</td>\n",
       "      <td>0.1200</td>\n",
       "    </tr>\n",
       "    <tr>\n",
       "      <th>Si</th>\n",
       "      <td>0.3600</td>\n",
       "      <td>0.3600</td>\n",
       "      <td>0.3600</td>\n",
       "      <td>0.3600</td>\n",
       "      <td>0.3600</td>\n",
       "    </tr>\n",
       "    <tr>\n",
       "      <th>Mn</th>\n",
       "      <td>0.5200</td>\n",
       "      <td>0.5200</td>\n",
       "      <td>0.5200</td>\n",
       "      <td>0.5200</td>\n",
       "      <td>0.5200</td>\n",
       "    </tr>\n",
       "    <tr>\n",
       "      <th>P</th>\n",
       "      <td>0.0090</td>\n",
       "      <td>0.0090</td>\n",
       "      <td>0.0090</td>\n",
       "      <td>0.0090</td>\n",
       "      <td>0.0090</td>\n",
       "    </tr>\n",
       "    <tr>\n",
       "      <th>S</th>\n",
       "      <td>0.0030</td>\n",
       "      <td>0.0030</td>\n",
       "      <td>0.0030</td>\n",
       "      <td>0.0030</td>\n",
       "      <td>0.0030</td>\n",
       "    </tr>\n",
       "    <tr>\n",
       "      <th>Ni</th>\n",
       "      <td>0.0890</td>\n",
       "      <td>0.0890</td>\n",
       "      <td>0.0890</td>\n",
       "      <td>0.0890</td>\n",
       "      <td>0.0890</td>\n",
       "    </tr>\n",
       "    <tr>\n",
       "      <th>Cr</th>\n",
       "      <td>0.9700</td>\n",
       "      <td>0.9700</td>\n",
       "      <td>0.9700</td>\n",
       "      <td>0.9700</td>\n",
       "      <td>0.9700</td>\n",
       "    </tr>\n",
       "    <tr>\n",
       "      <th>Mo</th>\n",
       "      <td>0.6100</td>\n",
       "      <td>0.6100</td>\n",
       "      <td>0.6100</td>\n",
       "      <td>0.6100</td>\n",
       "      <td>0.6100</td>\n",
       "    </tr>\n",
       "    <tr>\n",
       "      <th>Cu</th>\n",
       "      <td>0.0400</td>\n",
       "      <td>0.0400</td>\n",
       "      <td>0.0400</td>\n",
       "      <td>0.0400</td>\n",
       "      <td>0.0400</td>\n",
       "    </tr>\n",
       "    <tr>\n",
       "      <th>V</th>\n",
       "      <td>0.0000</td>\n",
       "      <td>0.0000</td>\n",
       "      <td>0.0000</td>\n",
       "      <td>0.0000</td>\n",
       "      <td>0.0000</td>\n",
       "    </tr>\n",
       "    <tr>\n",
       "      <th>Al</th>\n",
       "      <td>0.0030</td>\n",
       "      <td>0.0030</td>\n",
       "      <td>0.0030</td>\n",
       "      <td>0.0030</td>\n",
       "      <td>0.0030</td>\n",
       "    </tr>\n",
       "    <tr>\n",
       "      <th>N</th>\n",
       "      <td>0.0066</td>\n",
       "      <td>0.0066</td>\n",
       "      <td>0.0066</td>\n",
       "      <td>0.0066</td>\n",
       "      <td>0.0066</td>\n",
       "    </tr>\n",
       "    <tr>\n",
       "      <th>Ceq</th>\n",
       "      <td>0.0000</td>\n",
       "      <td>0.0000</td>\n",
       "      <td>0.0000</td>\n",
       "      <td>0.0000</td>\n",
       "      <td>0.0000</td>\n",
       "    </tr>\n",
       "    <tr>\n",
       "      <th>Nb + Ta</th>\n",
       "      <td>0.0000</td>\n",
       "      <td>0.0000</td>\n",
       "      <td>0.0000</td>\n",
       "      <td>0.0000</td>\n",
       "      <td>0.0000</td>\n",
       "    </tr>\n",
       "    <tr>\n",
       "      <th>Temperature (°C)</th>\n",
       "      <td>27.0000</td>\n",
       "      <td>100.0000</td>\n",
       "      <td>200.0000</td>\n",
       "      <td>300.0000</td>\n",
       "      <td>400.0000</td>\n",
       "    </tr>\n",
       "    <tr>\n",
       "      <th>0.2% Proof Stress (MPa)</th>\n",
       "      <td>342.0000</td>\n",
       "      <td>338.0000</td>\n",
       "      <td>337.0000</td>\n",
       "      <td>346.0000</td>\n",
       "      <td>316.0000</td>\n",
       "    </tr>\n",
       "    <tr>\n",
       "      <th>Tensile Strength (MPa)</th>\n",
       "      <td>490.0000</td>\n",
       "      <td>454.0000</td>\n",
       "      <td>465.0000</td>\n",
       "      <td>495.0000</td>\n",
       "      <td>489.0000</td>\n",
       "    </tr>\n",
       "    <tr>\n",
       "      <th>Elongation (%)</th>\n",
       "      <td>30.0000</td>\n",
       "      <td>27.0000</td>\n",
       "      <td>23.0000</td>\n",
       "      <td>21.0000</td>\n",
       "      <td>26.0000</td>\n",
       "    </tr>\n",
       "    <tr>\n",
       "      <th>Reduction in Area (%)</th>\n",
       "      <td>71.0000</td>\n",
       "      <td>72.0000</td>\n",
       "      <td>69.0000</td>\n",
       "      <td>70.0000</td>\n",
       "      <td>79.0000</td>\n",
       "    </tr>\n",
       "  </tbody>\n",
       "</table>\n",
       "</div>"
      ],
      "text/plain": [
       "                                 0         1         2         3         4\n",
       " C                          0.1200    0.1200    0.1200    0.1200    0.1200\n",
       " Si                         0.3600    0.3600    0.3600    0.3600    0.3600\n",
       " Mn                         0.5200    0.5200    0.5200    0.5200    0.5200\n",
       " P                          0.0090    0.0090    0.0090    0.0090    0.0090\n",
       " S                          0.0030    0.0030    0.0030    0.0030    0.0030\n",
       " Ni                         0.0890    0.0890    0.0890    0.0890    0.0890\n",
       " Cr                         0.9700    0.9700    0.9700    0.9700    0.9700\n",
       " Mo                         0.6100    0.6100    0.6100    0.6100    0.6100\n",
       " Cu                         0.0400    0.0400    0.0400    0.0400    0.0400\n",
       "V                           0.0000    0.0000    0.0000    0.0000    0.0000\n",
       " Al                         0.0030    0.0030    0.0030    0.0030    0.0030\n",
       " N                          0.0066    0.0066    0.0066    0.0066    0.0066\n",
       "Ceq                         0.0000    0.0000    0.0000    0.0000    0.0000\n",
       "Nb + Ta                     0.0000    0.0000    0.0000    0.0000    0.0000\n",
       " Temperature (°C)          27.0000  100.0000  200.0000  300.0000  400.0000\n",
       " 0.2% Proof Stress (MPa)  342.0000  338.0000  337.0000  346.0000  316.0000\n",
       " Tensile Strength (MPa)   490.0000  454.0000  465.0000  495.0000  489.0000\n",
       " Elongation (%)            30.0000   27.0000   23.0000   21.0000   26.0000\n",
       " Reduction in Area (%)     71.0000   72.0000   69.0000   70.0000   79.0000"
      ]
     },
     "execution_count": 7,
     "metadata": {},
     "output_type": "execute_result"
    }
   ],
   "source": [
    "data = data.drop(columns='Alloy code')\n",
    "data.head().T"
   ]
  },
  {
   "cell_type": "code",
   "execution_count": 43,
   "id": "5f93f2b2",
   "metadata": {},
   "outputs": [],
   "source": [
    "# Proof Stress as function of alloy content"
   ]
  },
  {
   "cell_type": "code",
   "execution_count": 8,
   "id": "7819b051",
   "metadata": {},
   "outputs": [],
   "source": [
    "X = data.iloc[:,0:15].values"
   ]
  },
  {
   "cell_type": "code",
   "execution_count": 9,
   "id": "f8750e47",
   "metadata": {},
   "outputs": [],
   "source": [
    "y = data.iloc[:,15].values"
   ]
  },
  {
   "cell_type": "code",
   "execution_count": 10,
   "id": "8729248c",
   "metadata": {},
   "outputs": [
    {
     "name": "stdout",
     "output_type": "stream",
     "text": [
      "(823, 15)\n",
      "(92, 15)\n",
      "(823,)\n",
      "(92,)\n"
     ]
    }
   ],
   "source": [
    "from sklearn.model_selection import train_test_split\n",
    "\n",
    "X_train, X_test, y_train, y_test = train_test_split(X, y , random_state=1, test_size=0.10)\n",
    "\n",
    "print(X_train.shape)\n",
    "print(X_test.shape)\n",
    "print(y_train.shape)\n",
    "print(y_test.shape)"
   ]
  },
  {
   "cell_type": "code",
   "execution_count": 11,
   "id": "c38f0ceb",
   "metadata": {},
   "outputs": [],
   "source": [
    "# feature scaling\n",
    "from sklearn.preprocessing import StandardScaler\n",
    "sc = StandardScaler()\n",
    "X_train = sc.fit_transform(X_train)\n",
    "X_test = sc.transform(X_test)"
   ]
  },
  {
   "cell_type": "code",
   "execution_count": 54,
   "id": "f9a55bd8",
   "metadata": {},
   "outputs": [],
   "source": [
    "#linear regression model"
   ]
  },
  {
   "cell_type": "code",
   "execution_count": 12,
   "id": "b4f692d1",
   "metadata": {},
   "outputs": [
    {
     "name": "stdout",
     "output_type": "stream",
     "text": [
      "r2 score : 0.8936164498681914\n"
     ]
    }
   ],
   "source": [
    "from sklearn.linear_model import LinearRegression\n",
    "from sklearn.metrics import r2_score\n",
    "\n",
    "model = LinearRegression().fit(X_train, y_train)\n",
    "y_pred = model.predict(X_test)\n",
    "r2 = r2_score(y_test, y_pred)\n",
    "print('r2 score : {}'.format(r2))"
   ]
  },
  {
   "cell_type": "code",
   "execution_count": 55,
   "id": "9f6d1dc1",
   "metadata": {},
   "outputs": [],
   "source": [
    "# XGBRegressor"
   ]
  },
  {
   "cell_type": "code",
   "execution_count": 13,
   "id": "2f69994c",
   "metadata": {},
   "outputs": [
    {
     "name": "stdout",
     "output_type": "stream",
     "text": [
      "r2 score: 0.9752775461794017\n"
     ]
    }
   ],
   "source": [
    "from xgboost import XGBRegressor\n",
    "\n",
    "model = XGBRegressor().fit(X_train,y_train)\n",
    "y_pred= model.predict(X_test)\n",
    "r2 = r2_score(y_test, y_pred)\n",
    "print('r2 score: {}'.format(r2))"
   ]
  },
  {
   "cell_type": "code",
   "execution_count": 56,
   "id": "5600ef79",
   "metadata": {},
   "outputs": [],
   "source": [
    "# Random Forest Regressor"
   ]
  },
  {
   "cell_type": "code",
   "execution_count": 14,
   "id": "6144f1a3",
   "metadata": {},
   "outputs": [
    {
     "name": "stdout",
     "output_type": "stream",
     "text": [
      "r2 score for IoT: 0.9794036208043342\n"
     ]
    }
   ],
   "source": [
    "from sklearn.ensemble import RandomForestRegressor\n",
    "\n",
    "model_IoT = RandomForestRegressor().fit(X_train,y_train)\n",
    "y_pred= model_IoT.predict(X_test)\n",
    "r2_IoT = r2_score(y_test, y_pred)\n",
    "print('r2 score for IoT: {}'.format(r2_IoT))"
   ]
  },
  {
   "cell_type": "code",
   "execution_count": 57,
   "id": "72ad99c9",
   "metadata": {},
   "outputs": [],
   "source": [
    "#Linear regression Ridge regularization"
   ]
  },
  {
   "cell_type": "code",
   "execution_count": 15,
   "id": "2bd2049d",
   "metadata": {},
   "outputs": [
    {
     "name": "stdout",
     "output_type": "stream",
     "text": [
      "r2 score: 0.8934986449328584\n"
     ]
    }
   ],
   "source": [
    "from sklearn.linear_model import Ridge\n",
    "\n",
    "model = Ridge().fit(X_train,y_train)\n",
    "y_pred= model.predict(X_test)\n",
    "r2 = r2_score(y_test, y_pred)\n",
    "print('r2 score: {}'.format(r2))"
   ]
  },
  {
   "cell_type": "code",
   "execution_count": 58,
   "id": "9578c23b",
   "metadata": {},
   "outputs": [],
   "source": [
    "#Linear regression Lasso regularization"
   ]
  },
  {
   "cell_type": "code",
   "execution_count": 16,
   "id": "cedde11c",
   "metadata": {},
   "outputs": [
    {
     "name": "stdout",
     "output_type": "stream",
     "text": [
      "r2 score: 0.8871725612655726\n"
     ]
    }
   ],
   "source": [
    "from sklearn.linear_model import Lasso\n",
    "\n",
    "model = Lasso().fit(X_train,y_train)\n",
    "y_pred= model.predict(X_test)\n",
    "r2 = r2_score(y_test, y_pred)\n",
    "print('r2 score: {}'.format(r2))"
   ]
  },
  {
   "cell_type": "code",
   "execution_count": 59,
   "id": "e076a887",
   "metadata": {},
   "outputs": [],
   "source": [
    "#polynomial fit with degree 5"
   ]
  },
  {
   "cell_type": "code",
   "execution_count": 17,
   "id": "fe40f1a0",
   "metadata": {},
   "outputs": [
    {
     "data": {
      "text/plain": [
       "Pipeline(steps=[('polynomialfeatures',\n",
       "                 PolynomialFeatures(degree=5, include_bias=False)),\n",
       "                ('linearregression', LinearRegression())])"
      ]
     },
     "execution_count": 17,
     "metadata": {},
     "output_type": "execute_result"
    }
   ],
   "source": [
    "from sklearn.preprocessing import PolynomialFeatures\n",
    "from sklearn.pipeline import make_pipeline\n",
    "\n",
    "poly_pipeline = make_pipeline(\n",
    "    PolynomialFeatures(degree=5, include_bias=False), \n",
    "    #MinMaxScaler(), \n",
    "    LinearRegression())\n",
    "poly_pipeline"
   ]
  },
  {
   "cell_type": "code",
   "execution_count": 18,
   "id": "9ff1c788",
   "metadata": {},
   "outputs": [
    {
     "name": "stdout",
     "output_type": "stream",
     "text": [
      "r2 score: 0.8567329055854949\n"
     ]
    }
   ],
   "source": [
    "poly_pipeline.fit(X_train, y_train)\n",
    "y_pred = poly_pipeline.predict(X_test)\n",
    "r2 = r2_score(y_test, y_pred)\n",
    "print('r2 score: {}'.format(r2))"
   ]
  },
  {
   "cell_type": "code",
   "execution_count": 44,
   "id": "57163f42",
   "metadata": {},
   "outputs": [],
   "source": [
    "#Tensile strength as function of temerature and alloy content"
   ]
  },
  {
   "cell_type": "code",
   "execution_count": 19,
   "id": "a107dc51",
   "metadata": {
    "scrolled": true
   },
   "outputs": [
    {
     "data": {
      "text/plain": [
       "0    490\n",
       "1    454\n",
       "2    465\n",
       "3    495\n",
       "4    489\n",
       "Name:  Tensile Strength (MPa), dtype: int64"
      ]
     },
     "execution_count": 19,
     "metadata": {},
     "output_type": "execute_result"
    }
   ],
   "source": [
    "y = data.iloc[:,16]\n",
    "y.head()"
   ]
  },
  {
   "cell_type": "code",
   "execution_count": 20,
   "id": "c172344d",
   "metadata": {},
   "outputs": [
    {
     "name": "stdout",
     "output_type": "stream",
     "text": [
      "(823, 15)\n",
      "(92, 15)\n",
      "(823,)\n",
      "(92,)\n"
     ]
    }
   ],
   "source": [
    "X_train, X_test, y_train, y_test = train_test_split(X, y , random_state=1, test_size=0.10)\n",
    "\n",
    "print(X_train.shape)\n",
    "print(X_test.shape)\n",
    "print(y_train.shape)\n",
    "print(y_test.shape)"
   ]
  },
  {
   "cell_type": "code",
   "execution_count": 21,
   "id": "e7ce1735",
   "metadata": {},
   "outputs": [],
   "source": [
    "# feature scaling\n",
    "from sklearn.preprocessing import StandardScaler\n",
    "sc = StandardScaler()\n",
    "X_train = sc.fit_transform(X_train)\n",
    "X_test = sc.transform(X_test)"
   ]
  },
  {
   "cell_type": "code",
   "execution_count": 22,
   "id": "ac85803c",
   "metadata": {},
   "outputs": [
    {
     "name": "stdout",
     "output_type": "stream",
     "text": [
      "r2 score : 0.6778724350685121\n"
     ]
    }
   ],
   "source": [
    "model = LinearRegression().fit(X_train, y_train)\n",
    "y_pred = model.predict(X_test)\n",
    "r2 = r2_score(y_test, y_pred)\n",
    "print('r2 score : {}'.format(r2))"
   ]
  },
  {
   "cell_type": "code",
   "execution_count": 23,
   "id": "2ceb3c33",
   "metadata": {},
   "outputs": [
    {
     "name": "stdout",
     "output_type": "stream",
     "text": [
      "r2 score: 0.9808886058634181\n"
     ]
    }
   ],
   "source": [
    "model = XGBRegressor().fit(X_train,y_train)\n",
    "y_pred= model.predict(X_test)\n",
    "r2 = r2_score(y_test, y_pred)\n",
    "print('r2 score: {}'.format(r2))"
   ]
  },
  {
   "cell_type": "code",
   "execution_count": 24,
   "id": "27cb76ed",
   "metadata": {},
   "outputs": [
    {
     "name": "stdout",
     "output_type": "stream",
     "text": [
      "r2 score: 0.9746548752719987\n"
     ]
    }
   ],
   "source": [
    "model = RandomForestRegressor().fit(X_train,y_train)\n",
    "y_pred= model.predict(X_test)\n",
    "r2 = r2_score(y_test, y_pred)\n",
    "print('r2 score: {}'.format(r2))"
   ]
  },
  {
   "cell_type": "code",
   "execution_count": 25,
   "id": "fb5c432e",
   "metadata": {},
   "outputs": [
    {
     "name": "stdout",
     "output_type": "stream",
     "text": [
      "r2 score: 0.6789788926022717\n"
     ]
    }
   ],
   "source": [
    "model = Ridge().fit(X_train,y_train)\n",
    "y_pred= model.predict(X_test)\n",
    "r2 = r2_score(y_test, y_pred)\n",
    "print('r2 score: {}'.format(r2))"
   ]
  },
  {
   "cell_type": "code",
   "execution_count": 26,
   "id": "b7c3b1eb",
   "metadata": {},
   "outputs": [
    {
     "name": "stdout",
     "output_type": "stream",
     "text": [
      "r2 score: 0.694590218036548\n"
     ]
    }
   ],
   "source": [
    "model = Lasso().fit(X_train,y_train)\n",
    "y_pred= model.predict(X_test)\n",
    "r2 = r2_score(y_test, y_pred)\n",
    "print('r2 score: {}'.format(r2))"
   ]
  },
  {
   "cell_type": "code",
   "execution_count": 27,
   "id": "92dd2da7",
   "metadata": {},
   "outputs": [
    {
     "data": {
      "text/plain": [
       "Pipeline(steps=[('polynomialfeatures',\n",
       "                 PolynomialFeatures(degree=3, include_bias=False)),\n",
       "                ('linearregression', LinearRegression())])"
      ]
     },
     "execution_count": 27,
     "metadata": {},
     "output_type": "execute_result"
    }
   ],
   "source": [
    "poly_pipeline = make_pipeline(\n",
    "    PolynomialFeatures(degree=3, include_bias=False), \n",
    "    #MinMaxScaler(), \n",
    "    LinearRegression())\n",
    "poly_pipeline"
   ]
  },
  {
   "cell_type": "code",
   "execution_count": 28,
   "id": "818e3aaa",
   "metadata": {
    "scrolled": true
   },
   "outputs": [
    {
     "name": "stdout",
     "output_type": "stream",
     "text": [
      "r2 score: 0.6107196883146115\n"
     ]
    }
   ],
   "source": [
    "poly_pipeline.fit(X_train, y_train)\n",
    "y_pred = poly_pipeline.predict(X_test)\n",
    "r2 = r2_score(y_test, y_pred)\n",
    "print('r2 score: {}'.format(r2))"
   ]
  },
  {
   "cell_type": "code",
   "execution_count": 45,
   "id": "10596a8d",
   "metadata": {},
   "outputs": [],
   "source": [
    "#Elongation as function alloy content and temperature"
   ]
  },
  {
   "cell_type": "code",
   "execution_count": 29,
   "id": "c78af7e4",
   "metadata": {},
   "outputs": [
    {
     "data": {
      "text/plain": [
       "0    30\n",
       "1    27\n",
       "2    23\n",
       "3    21\n",
       "4    26\n",
       "Name:  Elongation (%), dtype: int64"
      ]
     },
     "execution_count": 29,
     "metadata": {},
     "output_type": "execute_result"
    }
   ],
   "source": [
    "y = data.iloc[:,17]\n",
    "y.head()"
   ]
  },
  {
   "cell_type": "code",
   "execution_count": 30,
   "id": "329bcfd2",
   "metadata": {},
   "outputs": [
    {
     "name": "stdout",
     "output_type": "stream",
     "text": [
      "(823, 15)\n",
      "(92, 15)\n",
      "(823,)\n",
      "(92,)\n"
     ]
    }
   ],
   "source": [
    "X_train, X_test, y_train, y_test = train_test_split(X, y , random_state=1, test_size=0.10)\n",
    "\n",
    "print(X_train.shape)\n",
    "print(X_test.shape)\n",
    "print(y_train.shape)\n",
    "print(y_test.shape)"
   ]
  },
  {
   "cell_type": "code",
   "execution_count": 31,
   "id": "1bba1625",
   "metadata": {},
   "outputs": [],
   "source": [
    "# feature scaling\n",
    "from sklearn.preprocessing import StandardScaler\n",
    "sc = StandardScaler()\n",
    "X_train = sc.fit_transform(X_train)\n",
    "X_test = sc.transform(X_test)"
   ]
  },
  {
   "cell_type": "code",
   "execution_count": 32,
   "id": "1a753efc",
   "metadata": {},
   "outputs": [
    {
     "name": "stdout",
     "output_type": "stream",
     "text": [
      "r2 score : 0.584995464165518\n"
     ]
    }
   ],
   "source": [
    "model = LinearRegression().fit(X_train, y_train)\n",
    "y_pred = model.predict(X_test)\n",
    "r2 = r2_score(y_test, y_pred)\n",
    "print('r2 score : {}'.format(r2))"
   ]
  },
  {
   "cell_type": "code",
   "execution_count": 33,
   "id": "010cfa7b",
   "metadata": {},
   "outputs": [
    {
     "name": "stdout",
     "output_type": "stream",
     "text": [
      "r2 score: 0.9296589202903535\n"
     ]
    }
   ],
   "source": [
    "model = XGBRegressor().fit(X_train,y_train)\n",
    "y_pred= model.predict(X_test)\n",
    "r2 = r2_score(y_test, y_pred)\n",
    "print('r2 score: {}'.format(r2))"
   ]
  },
  {
   "cell_type": "code",
   "execution_count": 34,
   "id": "a6e43360",
   "metadata": {},
   "outputs": [
    {
     "name": "stdout",
     "output_type": "stream",
     "text": [
      "r2 score: 0.9184463526939686\n"
     ]
    }
   ],
   "source": [
    "model = RandomForestRegressor().fit(X_train,y_train)\n",
    "y_pred= model.predict(X_test)\n",
    "r2 = r2_score(y_test, y_pred)\n",
    "print('r2 score: {}'.format(r2))"
   ]
  },
  {
   "cell_type": "code",
   "execution_count": 35,
   "id": "b6379582",
   "metadata": {},
   "outputs": [
    {
     "name": "stdout",
     "output_type": "stream",
     "text": [
      "r2 score: 0.5848037266441435\n"
     ]
    }
   ],
   "source": [
    "model = Ridge().fit(X_train,y_train)\n",
    "y_pred= model.predict(X_test)\n",
    "r2 = r2_score(y_test, y_pred)\n",
    "print('r2 score: {}'.format(r2))"
   ]
  },
  {
   "cell_type": "code",
   "execution_count": 36,
   "id": "f1e0f273",
   "metadata": {},
   "outputs": [
    {
     "name": "stdout",
     "output_type": "stream",
     "text": [
      "r2 score: 0.47086058181186774\n"
     ]
    }
   ],
   "source": [
    "model = Lasso().fit(X_train,y_train)\n",
    "y_pred= model.predict(X_test)\n",
    "r2 = r2_score(y_test, y_pred)\n",
    "print('r2 score: {}'.format(r2))"
   ]
  },
  {
   "cell_type": "code",
   "execution_count": 37,
   "id": "e2016b68",
   "metadata": {},
   "outputs": [
    {
     "data": {
      "text/plain": [
       "Pipeline(steps=[('polynomialfeatures',\n",
       "                 PolynomialFeatures(degree=3, include_bias=False)),\n",
       "                ('linearregression', LinearRegression())])"
      ]
     },
     "execution_count": 37,
     "metadata": {},
     "output_type": "execute_result"
    }
   ],
   "source": [
    "poly_pipeline = make_pipeline(\n",
    "    PolynomialFeatures(degree=3, include_bias=False), \n",
    "    #MinMaxScaler(), \n",
    "    LinearRegression())\n",
    "poly_pipeline"
   ]
  },
  {
   "cell_type": "code",
   "execution_count": 38,
   "id": "e8777cb3",
   "metadata": {},
   "outputs": [
    {
     "name": "stdout",
     "output_type": "stream",
     "text": [
      "r2 score: 0.816906647930936\n"
     ]
    }
   ],
   "source": [
    "poly_pipeline.fit(X_train, y_train)\n",
    "y_pred = poly_pipeline.predict(X_test)\n",
    "r2 = r2_score(y_test, y_pred)\n",
    "print('r2 score: {}'.format(r2))"
   ]
  },
  {
   "cell_type": "code",
   "execution_count": 46,
   "id": "fc26d90c",
   "metadata": {},
   "outputs": [],
   "source": [
    "#Reduction in area as function of temperature and alloy content"
   ]
  },
  {
   "cell_type": "code",
   "execution_count": 39,
   "id": "dbe6822b",
   "metadata": {},
   "outputs": [],
   "source": [
    "y = data.iloc[:,18]"
   ]
  },
  {
   "cell_type": "code",
   "execution_count": 40,
   "id": "5312fa79",
   "metadata": {},
   "outputs": [
    {
     "data": {
      "text/plain": [
       "0    71\n",
       "1    72\n",
       "2    69\n",
       "3    70\n",
       "4    79\n",
       "Name:  Reduction in Area (%), dtype: int64"
      ]
     },
     "execution_count": 40,
     "metadata": {},
     "output_type": "execute_result"
    }
   ],
   "source": [
    "y.head()"
   ]
  },
  {
   "cell_type": "code",
   "execution_count": 41,
   "id": "258e29a1",
   "metadata": {},
   "outputs": [
    {
     "name": "stdout",
     "output_type": "stream",
     "text": [
      "(823, 15)\n",
      "(92, 15)\n",
      "(823,)\n",
      "(92,)\n"
     ]
    }
   ],
   "source": [
    "X_train, X_test, y_train, y_test = train_test_split(X, y , random_state=1, test_size=0.10)\n",
    "\n",
    "print(X_train.shape)\n",
    "print(X_test.shape)\n",
    "print(y_train.shape)\n",
    "print(y_test.shape)"
   ]
  },
  {
   "cell_type": "code",
   "execution_count": 42,
   "id": "d9275cbd",
   "metadata": {},
   "outputs": [],
   "source": [
    "# feature scaling\n",
    "from sklearn.preprocessing import StandardScaler\n",
    "sc = StandardScaler()\n",
    "X_train = sc.fit_transform(X_train)\n",
    "X_test = sc.transform(X_test)"
   ]
  },
  {
   "cell_type": "code",
   "execution_count": 47,
   "id": "ce56f4d9",
   "metadata": {},
   "outputs": [
    {
     "name": "stdout",
     "output_type": "stream",
     "text": [
      "r2 score: 0.801322872402593\n"
     ]
    }
   ],
   "source": [
    "model = RandomForestRegressor().fit(X_train,y_train)\n",
    "y_pred= model.predict(X_test)\n",
    "r2 = r2_score(y_test, y_pred)\n",
    "print('r2 score: {}'.format(r2))"
   ]
  },
  {
   "cell_type": "code",
   "execution_count": 48,
   "id": "0f454c95",
   "metadata": {},
   "outputs": [
    {
     "name": "stdout",
     "output_type": "stream",
     "text": [
      "r2 score : 0.5148150237763447\n"
     ]
    }
   ],
   "source": [
    "model = LinearRegression().fit(X_train, y_train)\n",
    "y_pred = model.predict(X_test)\n",
    "r2 = r2_score(y_test, y_pred)\n",
    "print('r2 score : {}'.format(r2))"
   ]
  },
  {
   "cell_type": "code",
   "execution_count": 49,
   "id": "b4a6c571",
   "metadata": {},
   "outputs": [
    {
     "name": "stdout",
     "output_type": "stream",
     "text": [
      "r2 score: 0.824757205408122\n"
     ]
    }
   ],
   "source": [
    "model = XGBRegressor().fit(X_train,y_train)\n",
    "y_pred= model.predict(X_test)\n",
    "r2 = r2_score(y_test, y_pred)\n",
    "print('r2 score: {}'.format(r2))"
   ]
  },
  {
   "cell_type": "code",
   "execution_count": 50,
   "id": "e4d42a19",
   "metadata": {},
   "outputs": [
    {
     "name": "stdout",
     "output_type": "stream",
     "text": [
      "r2 score: 0.5150178932868759\n"
     ]
    }
   ],
   "source": [
    "model = Ridge().fit(X_train,y_train)\n",
    "y_pred= model.predict(X_test)\n",
    "r2 = r2_score(y_test, y_pred)\n",
    "print('r2 score: {}'.format(r2))"
   ]
  },
  {
   "cell_type": "code",
   "execution_count": 51,
   "id": "f7c854a7",
   "metadata": {},
   "outputs": [
    {
     "name": "stdout",
     "output_type": "stream",
     "text": [
      "r2 score: 0.41363086618170264\n"
     ]
    }
   ],
   "source": [
    "model = Lasso().fit(X_train,y_train)\n",
    "y_pred= model.predict(X_test)\n",
    "r2 = r2_score(y_test, y_pred)\n",
    "print('r2 score: {}'.format(r2))"
   ]
  },
  {
   "cell_type": "code",
   "execution_count": 52,
   "id": "150396b8",
   "metadata": {},
   "outputs": [
    {
     "data": {
      "text/plain": [
       "Pipeline(steps=[('polynomialfeatures',\n",
       "                 PolynomialFeatures(degree=3, include_bias=False)),\n",
       "                ('linearregression', LinearRegression())])"
      ]
     },
     "execution_count": 52,
     "metadata": {},
     "output_type": "execute_result"
    }
   ],
   "source": [
    "poly_pipeline = make_pipeline(\n",
    "    PolynomialFeatures(degree=3, include_bias=False), \n",
    "    #MinMaxScaler(), \n",
    "    LinearRegression())\n",
    "poly_pipeline"
   ]
  },
  {
   "cell_type": "code",
   "execution_count": 53,
   "id": "a9251cdc",
   "metadata": {},
   "outputs": [
    {
     "name": "stdout",
     "output_type": "stream",
     "text": [
      "r2 score: 0.7650083962118788\n"
     ]
    }
   ],
   "source": [
    "poly_pipeline.fit(X_train, y_train)\n",
    "y_pred = poly_pipeline.predict(X_test)\n",
    "r2 = r2_score(y_test, y_pred)\n",
    "print('r2 score: {}'.format(r2))"
   ]
  }
 ],
 "metadata": {
  "kernelspec": {
   "display_name": "Python 3 (ipykernel)",
   "language": "python",
   "name": "python3"
  },
  "language_info": {
   "codemirror_mode": {
    "name": "ipython",
    "version": 3
   },
   "file_extension": ".py",
   "mimetype": "text/x-python",
   "name": "python",
   "nbconvert_exporter": "python",
   "pygments_lexer": "ipython3",
   "version": "3.10.2"
  }
 },
 "nbformat": 4,
 "nbformat_minor": 5
}
